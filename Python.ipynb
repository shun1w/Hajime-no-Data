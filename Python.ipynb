{
 "cells": [
  {
   "cell_type": "raw",
   "metadata": {
    "vscode": {
     "languageId": "raw"
    }
   },
   "source": [
    "# はじめてのPython\n",
    "\n",
    "このノートブックでは、Pythonの基礎からpandasとmatplotlibを使ったデータ分析・可視化まで学びます。\n",
    "\n",
    "## 目次\n",
    "1. Hello, Python!\n",
    "2. 変数と基本的なデータ型\n",
    "3. リストとループ\n",
    "4. pandasでデータを扱う\n",
    "5. matplotlibで作図する\n"
   ]
  },
  {
   "cell_type": "raw",
   "metadata": {
    "vscode": {
     "languageId": "raw"
    }
   },
   "source": [
    "## 1. Hello, Python!\n",
    "\n",
    "まずは、プログラミングの第一歩として画面に文字を表示してみましょう。\n"
   ]
  },
  {
   "cell_type": "raw",
   "metadata": {
    "vscode": {
     "languageId": "raw"
    }
   },
   "source": [
    "# はじめてのデータ分析 with Python\n",
    "\n",
    "このノートブックでは、45分でPythonを使ったデータ分析の基礎を学びます。\n",
    "\n",
    "## 目次\n",
    "1. 最小限のPython基礎（5分）\n",
    "2. pandasでデータを扱う（15分）\n",
    "3. データのフィルタリングと集計（10分）\n",
    "4. matplotlibで可視化（15分）\n"
   ]
  },
  {
   "cell_type": "raw",
   "metadata": {
    "vscode": {
     "languageId": "raw"
    }
   },
   "source": [
    "## 1. 最小限のPython基礎（5分）\n",
    "\n",
    "データ分析に必要な最小限のPython知識を学びます。\n"
   ]
  },
  {
   "cell_type": "code",
   "execution_count": null,
   "metadata": {},
   "outputs": [],
   "source": [
    "# print()関数を使って文字を表示します\n",
    "print('hello')\n",
    "\n",
    "# 日本語も表示できます\n",
    "print('こんにちは、Python！')\n"
   ]
  },
  {
   "cell_type": "raw",
   "metadata": {
    "vscode": {
     "languageId": "raw"
    }
   },
   "source": [
    "## 2. pandasでデータを扱う（15分）\n",
    "\n",
    "pandasはPythonでデータ分析を行うための最も重要なライブラリです。Excelのような表形式のデータを簡単に扱うことができます。\n"
   ]
  },
  {
   "cell_type": "code",
   "execution_count": null,
   "metadata": {},
   "outputs": [],
   "source": [
    "# pandasをインポート（pdという名前で使うのが慣習）\n",
    "import pandas as pd\n",
    "\n",
    "# データを辞書形式で作成\n",
    "data = {\n",
    "    '名前': ['太郎', '花子', '次郎', '美香', '三郎'],\n",
    "    '年齢': [25, 23, 27, 22, 30],\n",
    "    '身長': [170, 158, 175, 162, 168],\n",
    "    '体重': [65, 50, 70, 52, 72]\n",
    "}\n",
    "\n",
    "# DataFrameを作成（Excelのような表形式）\n",
    "df = pd.DataFrame(data)\n",
    "print('作成したデータフレーム:')\n",
    "print(df)\n"
   ]
  },
  {
   "cell_type": "raw",
   "metadata": {
    "vscode": {
     "languageId": "raw"
    }
   },
   "source": [
    "## 3. リストとループ\n",
    "\n",
    "リストは複数の値をまとめて保存できるデータ構造です。\n"
   ]
  },
  {
   "cell_type": "code",
   "execution_count": null,
   "metadata": {},
   "outputs": [],
   "source": [
    "# リストを作成\n",
    "fruits = ['りんご', 'みかん', 'バナナ', 'ぶどう']\n",
    "print('果物リスト:', fruits)\n",
    "\n",
    "# リストの要素数\n",
    "print('果物の種類:', len(fruits), '個')\n",
    "\n",
    "# forループでリストの要素を1つずつ処理\n",
    "print('\\n好きな果物：')\n",
    "for fruit in fruits:\n",
    "    print('-', fruit)\n"
   ]
  },
  {
   "cell_type": "raw",
   "metadata": {
    "vscode": {
     "languageId": "raw"
    }
   },
   "source": [
    "## 4. pandasでデータを扱う\n",
    "\n",
    "pandasはデータ分析のための強力なライブラリです。表形式のデータを簡単に扱うことができます。\n"
   ]
  },
  {
   "cell_type": "code",
   "execution_count": null,
   "metadata": {},
   "outputs": [],
   "source": [
    "# pandasをインポート（pdという名前で使うのが慣習）\n",
    "import pandas as pd\n",
    "\n",
    "# 簡単なデータを作成\n",
    "data = {\n",
    "    '名前': ['太郎', '花子', '次郎', '美香', '三郎'],\n",
    "    '年齢': [25, 23, 27, 22, 30],\n",
    "    '身長': [170, 158, 175, 162, 168],\n",
    "    '体重': [65, 50, 70, 52, 72]\n",
    "}\n",
    "\n",
    "# DataFrameを作成\n",
    "df = pd.DataFrame(data)\n",
    "print('作成したデータフレーム:')\n",
    "print(df)\n"
   ]
  },
  {
   "cell_type": "code",
   "execution_count": null,
   "metadata": {},
   "outputs": [],
   "source": [
    "# 基本的な統計情報を表示\n",
    "print('データの統計情報:')\n",
    "print(df.describe())\n",
    "\n",
    "# BMIを計算して新しい列を追加\n",
    "df['BMI'] = df['体重'] / (df['身長']/100)**2\n",
    "df['BMI'] = df['BMI'].round(1)  # 小数点第1位まで\n",
    "\n",
    "print('\\nBMIを追加したデータ:')\n",
    "print(df)\n"
   ]
  },
  {
   "cell_type": "raw",
   "metadata": {
    "vscode": {
     "languageId": "raw"
    }
   },
   "source": [
    "## 5. matplotlibで作図する\n",
    "\n",
    "matplotlibはPythonで最も使われているグラフ描画ライブラリです。様々な種類のグラフを作成できます。\n"
   ]
  },
  {
   "cell_type": "code",
   "execution_count": 6,
   "metadata": {},
   "outputs": [],
   "source": [
    "# matplotlibをインポート\n",
    "import matplotlib.pyplot as plt\n",
    "\n",
    "# Jupyter Notebook内でグラフを表示するための設定\n",
    "%matplotlib inline\n",
    "\n",
    "# 日本語フォントの設定（文字化けを防ぐ）\n",
    "plt.rcParams['font.sans-serif'] = ['Hiragino Sans', 'Yu Gothic', 'Meirio', 'Takao', 'IPAexGothic', 'IPAPGothic', 'VL PGothic', 'Noto Sans CJK JP']\n",
    "plt.rcParams['axes.unicode_minus'] = False\n"
   ]
  },
  {
   "cell_type": "code",
   "execution_count": null,
   "metadata": {},
   "outputs": [],
   "source": [
    "# 棒グラフを作成\n",
    "plt.figure(figsize=(8, 6))  # グラフのサイズを設定\n",
    "plt.bar(df['名前'], df['年齢'], color='skyblue')\n",
    "plt.title('メンバーの年齢', fontsize=16)\n",
    "plt.xlabel('名前', fontsize=12)\n",
    "plt.ylabel('年齢', fontsize=12)\n",
    "plt.grid(axis='y', alpha=0.3)  # y軸にグリッドを表示\n",
    "plt.show()\n"
   ]
  },
  {
   "cell_type": "code",
   "execution_count": null,
   "metadata": {},
   "outputs": [],
   "source": [
    "# 散布図を作成（身長と体重の関係）\n",
    "plt.figure(figsize=(8, 6))\n",
    "plt.scatter(df['身長'], df['体重'], s=100, alpha=0.6, color='coral')\n",
    "\n",
    "# 各点に名前を表示\n",
    "for idx, row in df.iterrows():\n",
    "    plt.annotate(row['名前'], (row['身長'], row['体重']), \n",
    "                 xytext=(5, 5), textcoords='offset points')\n",
    "\n",
    "plt.title('身長と体重の関係', fontsize=16)\n",
    "plt.xlabel('身長 (cm)', fontsize=12)\n",
    "plt.ylabel('体重 (kg)', fontsize=12)\n",
    "plt.grid(True, alpha=0.3)\n",
    "plt.show()\n"
   ]
  },
  {
   "cell_type": "code",
   "execution_count": null,
   "metadata": {},
   "outputs": [],
   "source": [
    "# 複数のグラフを並べて表示\n",
    "fig, axes = plt.subplots(1, 2, figsize=(14, 5))\n",
    "\n",
    "# 左側：BMIの棒グラフ\n",
    "axes[0].bar(df['名前'], df['BMI'], color='lightgreen')\n",
    "axes[0].set_title('BMI比較', fontsize=14)\n",
    "axes[0].set_ylabel('BMI', fontsize=12)\n",
    "axes[0].axhline(y=22, color='red', linestyle='--', alpha=0.5, label='標準BMI(22)')\n",
    "axes[0].legend()\n",
    "axes[0].grid(axis='y', alpha=0.3)\n",
    "\n",
    "# 右側：年齢と体重の関係\n",
    "axes[1].scatter(df['年齢'], df['体重'], s=150, alpha=0.6, color='purple')\n",
    "axes[1].set_title('年齢と体重の関係', fontsize=14)\n",
    "axes[1].set_xlabel('年齢', fontsize=12)\n",
    "axes[1].set_ylabel('体重 (kg)', fontsize=12)\n",
    "axes[1].grid(True, alpha=0.3)\n",
    "\n",
    "# 各点に名前を表示\n",
    "for idx, row in df.iterrows():\n",
    "    axes[1].annotate(row['名前'], (row['年齢'], row['体重']), \n",
    "                     xytext=(5, 5), textcoords='offset points')\n",
    "\n",
    "plt.tight_layout()  # レイアウトを調整\n",
    "plt.show()\n"
   ]
  },
  {
   "cell_type": "raw",
   "metadata": {
    "vscode": {
     "languageId": "raw"
    }
   },
   "source": [
    "## 6. 条件分岐（if文）\n",
    "\n",
    "プログラムで「もし〜なら」という条件によって処理を変えたい時に使います。\n"
   ]
  },
  {
   "cell_type": "code",
   "execution_count": null,
   "metadata": {},
   "outputs": [],
   "source": [
    "# 基本的なif文\n",
    "age = 20\n",
    "\n",
    "if age >= 20:\n",
    "    print('成人です')\n",
    "else:\n",
    "    print('未成年です')\n",
    "\n",
    "# 複数の条件（elif）\n",
    "score = 85\n",
    "\n",
    "if score >= 90:\n",
    "    print('評価: 優')\n",
    "elif score >= 80:\n",
    "    print('評価: 良')\n",
    "elif score >= 70:\n",
    "    print('評価: 可')\n",
    "else:\n",
    "    print('評価: 不可')\n"
   ]
  },
  {
   "cell_type": "code",
   "execution_count": null,
   "metadata": {},
   "outputs": [],
   "source": [
    "# BMIによる健康状態の判定\n",
    "def check_health_status(bmi):\n",
    "    if bmi < 18.5:\n",
    "        return '低体重'\n",
    "    elif bmi < 25:\n",
    "        return '標準'\n",
    "    elif bmi < 30:\n",
    "        return '肥満度1'\n",
    "    else:\n",
    "        return '肥満度2以上'\n",
    "\n",
    "# データフレームに健康状態を追加\n",
    "df['健康状態'] = df['BMI'].apply(check_health_status)\n",
    "print(df[['名前', 'BMI', '健康状態']])\n"
   ]
  },
  {
   "cell_type": "raw",
   "metadata": {
    "vscode": {
     "languageId": "raw"
    }
   },
   "source": [
    "## 7. 関数の定義\n",
    "\n",
    "関数を使うと、同じ処理を何度も書かなくて済みます。コードの再利用性が高まります。\n"
   ]
  },
  {
   "cell_type": "code",
   "execution_count": null,
   "metadata": {},
   "outputs": [],
   "source": [
    "# 基本的な関数の定義\n",
    "def greeting(name):\n",
    "    \"\"\"名前を受け取って挨拶を返す関数\"\"\"\n",
    "    return f'こんにちは、{name}さん！'\n",
    "\n",
    "# 関数の呼び出し\n",
    "message = greeting('太郎')\n",
    "print(message)\n",
    "\n",
    "# 複数の引数を持つ関数\n",
    "def calculate_bmi(height_cm, weight_kg):\n",
    "    \"\"\"身長(cm)と体重(kg)からBMIを計算する関数\"\"\"\n",
    "    height_m = height_cm / 100\n",
    "    bmi = weight_kg / (height_m ** 2)\n",
    "    return round(bmi, 1)\n",
    "\n",
    "# 関数の使用\n",
    "my_bmi = calculate_bmi(170, 65)\n",
    "print(f'BMI: {my_bmi}')\n"
   ]
  },
  {
   "cell_type": "code",
   "execution_count": null,
   "metadata": {},
   "outputs": [],
   "source": [
    "# デフォルト引数を持つ関数\n",
    "def introduce(name, age, city='東京'):\n",
    "    \"\"\"自己紹介をする関数（cityはデフォルト値あり）\"\"\"\n",
    "    print(f'私は{name}です。{age}歳で、{city}に住んでいます。')\n",
    "\n",
    "# デフォルト値を使う場合\n",
    "introduce('花子', 25)\n",
    "\n",
    "# デフォルト値を上書きする場合\n",
    "introduce('次郎', 30, '大阪')\n"
   ]
  },
  {
   "cell_type": "raw",
   "metadata": {
    "vscode": {
     "languageId": "raw"
    }
   },
   "source": [
    "## 8. 辞書（Dictionary）\n",
    "\n",
    "辞書はキーと値のペアでデータを管理するデータ構造です。データの検索が高速で、実用的なプログラムでよく使います。\n"
   ]
  },
  {
   "cell_type": "code",
   "execution_count": null,
   "metadata": {},
   "outputs": [],
   "source": [
    "# 辞書の作成\n",
    "person = {\n",
    "    '名前': '田中太郎',\n",
    "    '年齢': 25,\n",
    "    '職業': 'エンジニア',\n",
    "    '趣味': ['読書', 'プログラミング', '映画鑑賞']\n",
    "}\n",
    "\n",
    "# 値の取得\n",
    "print(f\"名前: {person['名前']}\")\n",
    "print(f\"年齢: {person['年齢']}\")\n",
    "\n",
    "# 値の追加・更新\n",
    "person['出身地'] = '東京'  # 新しいキーの追加\n",
    "person['年齢'] = 26  # 既存の値の更新\n",
    "\n",
    "print('\\n更新後の辞書:')\n",
    "print(person)\n"
   ]
  },
  {
   "cell_type": "code",
   "execution_count": null,
   "metadata": {},
   "outputs": [],
   "source": [
    "# 辞書のループ処理\n",
    "print('個人情報:')\n",
    "for key, value in person.items():\n",
    "    print(f'  {key}: {value}')\n",
    "\n",
    "# 複数の辞書をリストに格納\n",
    "members = [\n",
    "    {'名前': '太郎', '年齢': 25, 'スキル': 'Python'},\n",
    "    {'名前': '花子', '年齢': 23, 'スキル': 'JavaScript'},\n",
    "    {'名前': '次郎', '年齢': 27, 'スキル': 'Java'}\n",
    "]\n",
    "\n",
    "# リスト内の辞書を処理\n",
    "print('\\nメンバー一覧:')\n",
    "for member in members:\n",
    "    print(f\"{member['名前']} ({member['年齢']}歳) - {member['スキル']}\")\n"
   ]
  },
  {
   "cell_type": "raw",
   "metadata": {
    "vscode": {
     "languageId": "raw"
    }
   },
   "source": [
    "## 9. エラーハンドリング（try-except）\n",
    "\n",
    "プログラムを実行中にエラーが発生してもプログラムが止まらないようにする仕組みです。\n"
   ]
  },
  {
   "cell_type": "code",
   "execution_count": null,
   "metadata": {},
   "outputs": [],
   "source": [
    "# 基本的なtry-except\n",
    "def divide(a, b):\n",
    "    try:\n",
    "        result = a / b\n",
    "        return result\n",
    "    except ZeroDivisionError:\n",
    "        print('エラー: 0で割ることはできません')\n",
    "        return None\n",
    "\n",
    "# 正常な計算\n",
    "print(f'10 ÷ 2 = {divide(10, 2)}')\n",
    "\n",
    "# エラーが発生する計算\n",
    "print(f'10 ÷ 0 = {divide(10, 0)}')\n"
   ]
  },
  {
   "cell_type": "code",
   "execution_count": null,
   "metadata": {},
   "outputs": [],
   "source": [
    "# 複数のエラーを処理\n",
    "def get_list_item(my_list, index):\n",
    "    try:\n",
    "        return my_list[index]\n",
    "    except IndexError:\n",
    "        print(f'エラー: インデックス{index}は範囲外です')\n",
    "        return None\n",
    "    except TypeError:\n",
    "        print('エラー: インデックスは整数である必要があります')\n",
    "        return None\n",
    "\n",
    "# テスト\n",
    "test_list = ['apple', 'banana', 'orange']\n",
    "\n",
    "print(f'インデックス1: {get_list_item(test_list, 1)}')  # 正常\n",
    "print(f'インデックス10: {get_list_item(test_list, 10)}')  # 範囲外エラー\n",
    "print(f'インデックス\"a\": {get_list_item(test_list, \"a\")}')  # 型エラー\n"
   ]
  },
  {
   "cell_type": "raw",
   "metadata": {
    "vscode": {
     "languageId": "raw"
    }
   },
   "source": [
    "## 10. ファイルの読み書き\n",
    "\n",
    "実際のデータ分析では、CSVファイルなどからデータを読み込むことが多いです。\n"
   ]
  },
  {
   "cell_type": "code",
   "execution_count": null,
   "metadata": {},
   "outputs": [],
   "source": [
    "# CSVファイルとして保存\n",
    "df.to_csv('members_data.csv', index=False, encoding='utf-8-sig')\n",
    "print('CSVファイルを保存しました: members_data.csv')\n",
    "\n",
    "# CSVファイルの読み込み\n",
    "df_loaded = pd.read_csv('members_data.csv')\n",
    "print('\\n読み込んだデータ:')\n",
    "print(df_loaded.head())\n"
   ]
  },
  {
   "cell_type": "code",
   "execution_count": null,
   "metadata": {},
   "outputs": [],
   "source": [
    "# テキストファイルの書き込み\n",
    "with open('sample.txt', 'w', encoding='utf-8') as f:\n",
    "    f.write('Pythonプログラミングを学習中です。\\n')\n",
    "    f.write('ファイルの読み書きは重要なスキルです。\\n')\n",
    "    f.write('頑張って練習しましょう！')\n",
    "\n",
    "print('テキストファイルを作成しました: sample.txt')\n",
    "\n",
    "# テキストファイルの読み込み\n",
    "print('\\nファイルの内容:')\n",
    "with open('sample.txt', 'r', encoding='utf-8') as f:\n",
    "    content = f.read()\n",
    "    print(content)\n"
   ]
  },
  {
   "cell_type": "raw",
   "metadata": {
    "vscode": {
     "languageId": "raw"
    }
   },
   "source": [
    "## 11. pandasの追加機能\n",
    "\n",
    "pandasにはデータ分析に便利な機能がたくさんあります。ここでは実用的な機能を学びましょう。\n"
   ]
  },
  {
   "cell_type": "code",
   "execution_count": null,
   "metadata": {},
   "outputs": [],
   "source": [
    "# データのフィルタリング（条件抽出）\n",
    "print('BMIが22以上の人:')\n",
    "high_bmi = df[df['BMI'] >= 22]\n",
    "print(high_bmi[['名前', 'BMI', '健康状態']])\n",
    "\n",
    "print('\\n20代の人:')\n",
    "twenties = df[(df['年齢'] >= 20) & (df['年齢'] < 30)]\n",
    "print(twenties[['名前', '年齢']])\n"
   ]
  },
  {
   "cell_type": "code",
   "execution_count": null,
   "metadata": {},
   "outputs": [],
   "source": [
    "# グループ化と集計（groupby）\n",
    "# 年代ごとにグループ化するための列を追加\n",
    "df['年代'] = (df['年齢'] // 10) * 10\n",
    "df['年代'] = df['年代'].astype(str) + '代'\n",
    "\n",
    "# 年代別の統計\n",
    "print('年代別の平均値:')\n",
    "age_group_stats = df.groupby('年代')[['身長', '体重', 'BMI']].mean().round(1)\n",
    "print(age_group_stats)\n"
   ]
  },
  {
   "cell_type": "code",
   "execution_count": null,
   "metadata": {},
   "outputs": [],
   "source": [
    "# 欠損値の処理\n",
    "# サンプルデータに欠損値を追加\n",
    "import numpy as np\n",
    "df_with_nan = df.copy()\n",
    "df_with_nan.loc[2, '体重'] = np.nan  # 次郎の体重を欠損値に\n",
    "\n",
    "print('欠損値のあるデータ:')\n",
    "print(df_with_nan[['名前', '体重', 'BMI']])\n",
    "\n",
    "# 欠損値の確認\n",
    "print('\\n欠損値の数:')\n",
    "print(df_with_nan.isnull().sum())\n",
    "\n",
    "# 欠損値を平均値で埋める\n",
    "df_with_nan['体重'].fillna(df_with_nan['体重'].mean(), inplace=True)\n",
    "print('\\n欠損値を埋めた後:')\n",
    "print(df_with_nan[['名前', '体重']])\n"
   ]
  },
  {
   "cell_type": "raw",
   "metadata": {
    "vscode": {
     "languageId": "raw"
    }
   },
   "source": [
    "## 12. matplotlibの追加グラフ\n",
    "\n",
    "データの特性に応じて、様々な種類のグラフを使い分けることが重要です。\n"
   ]
  },
  {
   "cell_type": "code",
   "execution_count": null,
   "metadata": {},
   "outputs": [],
   "source": [
    "# 折れ線グラフ（時系列データの例）\n",
    "# サンプルの月別体重データを作成\n",
    "months = ['1月', '2月', '3月', '4月', '5月', '6月']\n",
    "taro_weight = [65, 64.5, 64, 63.5, 63, 62.5]\n",
    "hanako_weight = [50, 49.5, 49, 48.5, 48, 47.5]\n",
    "\n",
    "plt.figure(figsize=(10, 6))\n",
    "plt.plot(months, taro_weight, marker='o', label='太郎', linewidth=2)\n",
    "plt.plot(months, hanako_weight, marker='s', label='花子', linewidth=2)\n",
    "plt.title('体重の推移', fontsize=16)\n",
    "plt.xlabel('月', fontsize=12)\n",
    "plt.ylabel('体重 (kg)', fontsize=12)\n",
    "plt.legend()\n",
    "plt.grid(True, alpha=0.3)\n",
    "plt.show()\n"
   ]
  },
  {
   "cell_type": "code",
   "execution_count": null,
   "metadata": {},
   "outputs": [],
   "source": [
    "# ヒストグラム（データの分布）\n",
    "# より多くのサンプルデータを生成\n",
    "np.random.seed(42)\n",
    "heights = np.random.normal(165, 10, 100)  # 平均165cm、標準偏差10cmの100人分のデータ\n",
    "\n",
    "plt.figure(figsize=(10, 6))\n",
    "plt.hist(heights, bins=15, color='skyblue', edgecolor='black', alpha=0.7)\n",
    "plt.title('身長の分布', fontsize=16)\n",
    "plt.xlabel('身長 (cm)', fontsize=12)\n",
    "plt.ylabel('人数', fontsize=12)\n",
    "plt.axvline(x=heights.mean(), color='red', linestyle='--', linewidth=2, label=f'平均: {heights.mean():.1f}cm')\n",
    "plt.legend()\n",
    "plt.grid(axis='y', alpha=0.3)\n",
    "plt.show()\n"
   ]
  },
  {
   "cell_type": "code",
   "execution_count": null,
   "metadata": {},
   "outputs": [],
   "source": [
    "# 円グラフ（割合を表示）\n",
    "# 健康状態の人数を集計\n",
    "health_counts = df['健康状態'].value_counts()\n",
    "\n",
    "plt.figure(figsize=(8, 8))\n",
    "plt.pie(health_counts.values, labels=health_counts.index, autopct='%1.1f%%', startangle=90)\n",
    "plt.title('健康状態の割合', fontsize=16)\n",
    "plt.axis('equal')  # 円を正円にする\n",
    "plt.show()\n"
   ]
  },
  {
   "cell_type": "raw",
   "metadata": {
    "vscode": {
     "languageId": "raw"
    }
   },
   "source": [
    "## 13. pandasのデータ結合と変形\n",
    "\n",
    "実際のデータ分析では、複数のデータを結合したり、データの形を変えたりすることがよくあります。\n"
   ]
  },
  {
   "cell_type": "code",
   "execution_count": null,
   "metadata": {},
   "outputs": [],
   "source": [
    "# データの結合 - merge（SQL的な結合）\n",
    "# 別のデータフレームを作成（趣味データ）\n",
    "hobby_data = pd.DataFrame({\n",
    "    '名前': ['太郎', '花子', '次郎', '美香'],\n",
    "    '趣味': ['読書', '料理', 'スポーツ', '音楽']\n",
    "})\n",
    "\n",
    "# 成績データも作成\n",
    "score_data = pd.DataFrame({\n",
    "    '名前': ['太郎', '花子', '次郎', '三郎'],\n",
    "    '数学': [85, 90, 75, 80],\n",
    "    '英語': [70, 95, 80, 75]\n",
    "})\n",
    "\n",
    "print('趣味データ:')\n",
    "print(hobby_data)\n",
    "print('\\n成績データ:')\n",
    "print(score_data)\n",
    "\n",
    "# merge()で結合（名前をキーとして）\n",
    "merged_df = pd.merge(df[['名前', '年齢', 'BMI']], hobby_data, on='名前', how='left')\n",
    "print('\\n趣味データと結合:')\n",
    "print(merged_df)\n",
    "\n",
    "# 複数のデータを結合\n",
    "full_merged = pd.merge(merged_df, score_data, on='名前', how='left')\n",
    "print('\\n全データを結合:')\n",
    "print(full_merged)\n"
   ]
  },
  {
   "cell_type": "code",
   "execution_count": null,
   "metadata": {},
   "outputs": [],
   "source": [
    "# データの縦方向結合 - concat\n",
    "# 新しいメンバーのデータ\n",
    "new_members = pd.DataFrame({\n",
    "    '名前': ['四郎', '五郎'],\n",
    "    '年齢': [28, 26],\n",
    "    '身長': [172, 169],\n",
    "    '体重': [68, 64]\n",
    "})\n",
    "\n",
    "# 縦方向に結合\n",
    "all_members = pd.concat([df[['名前', '年齢', '身長', '体重']], new_members], ignore_index=True)\n",
    "print('全メンバー（結合後）:')\n",
    "print(all_members)\n",
    "\n",
    "# データの並び替え - sort_values\n",
    "print('\\n年齢順に並び替え:')\n",
    "sorted_by_age = df.sort_values('年齢')\n",
    "print(sorted_by_age[['名前', '年齢', 'BMI']])\n",
    "\n",
    "print('\\nBMIの降順で並び替え:')\n",
    "sorted_by_bmi = df.sort_values('BMI', ascending=False)\n",
    "print(sorted_by_bmi[['名前', 'BMI', '健康状態']])\n",
    "\n",
    "# ピボットテーブル - データの集計と変形\n",
    "# サンプル販売データを作成\n",
    "sales_data = pd.DataFrame({\n",
    "    '月': ['1月', '1月', '1月', '2月', '2月', '2月', '3月', '3月', '3月'],\n",
    "    '商品': ['りんご', 'みかん', 'バナナ', 'りんご', 'みかん', 'バナナ', 'りんご', 'みかん', 'バナナ'],\n",
    "    '売上': [100, 150, 80, 120, 160, 90, 110, 140, 85]\n",
    "})\n",
    "\n",
    "print('\\n販売データ:')\n",
    "print(sales_data)\n",
    "\n",
    "# ピボットテーブルで集計\n",
    "pivot_table = sales_data.pivot_table(values='売上', index='商品', columns='月', aggfunc='sum')\n",
    "print('\\nピボットテーブル（商品×月の売上）:')\n",
    "print(pivot_table)\n"
   ]
  },
  {
   "cell_type": "raw",
   "metadata": {
    "vscode": {
     "languageId": "raw"
    }
   },
   "source": [
    "## 14. pandasの実践的な機能\n",
    "\n",
    "データ分析でよく使う、より実践的なpandasの機能を学びましょう。\n"
   ]
  },
  {
   "cell_type": "code",
   "execution_count": null,
   "metadata": {},
   "outputs": [],
   "source": [
    "# 重複データの処理\n",
    "# 重複を含むデータを作成\n",
    "duplicate_data = pd.DataFrame({\n",
    "    '名前': ['太郎', '花子', '太郎', '次郎', '花子'],\n",
    "    '年齢': [25, 23, 25, 27, 23],\n",
    "    '部署': ['営業', '企画', '営業', '技術', '企画']\n",
    "})\n",
    "\n",
    "print('重複を含むデータ:')\n",
    "print(duplicate_data)\n",
    "\n",
    "# 重複の確認\n",
    "print('\\n重複している行:')\n",
    "print(duplicate_data[duplicate_data.duplicated()])\n",
    "\n",
    "# 重複を削除\n",
    "print('\\n重複削除後:')\n",
    "unique_data = duplicate_data.drop_duplicates()\n",
    "print(unique_data)\n",
    "\n",
    "# 特定の列での重複削除\n",
    "print('\\n名前の重複を削除（最初の出現を残す）:')\n",
    "unique_names = duplicate_data.drop_duplicates(subset=['名前'], keep='first')\n",
    "print(unique_names)\n"
   ]
  },
  {
   "cell_type": "code",
   "execution_count": null,
   "metadata": {},
   "outputs": [],
   "source": [
    "# 文字列データの操作\n",
    "# 文字列を含むデータフレーム\n",
    "text_data = pd.DataFrame({\n",
    "    'メールアドレス': ['taro@example.com', 'HANAKO@GMAIL.COM', 'jiro@yahoo.co.jp'],\n",
    "    '電話番号': ['03-1234-5678', '090-9876-5432', '080-1111-2222']\n",
    "})\n",
    "\n",
    "print('元のデータ:')\n",
    "print(text_data)\n",
    "\n",
    "# 文字列の小文字化\n",
    "text_data['メールアドレス_小文字'] = text_data['メールアドレス'].str.lower()\n",
    "print('\\nメールアドレスを小文字に変換:')\n",
    "print(text_data)\n",
    "\n",
    "# 文字列の分割\n",
    "text_data['ドメイン'] = text_data['メールアドレス'].str.split('@').str[1]\n",
    "print('\\nドメインを抽出:')\n",
    "print(text_data[['メールアドレス', 'ドメイン']])\n",
    "\n",
    "# 文字列の置換\n",
    "text_data['電話番号_ハイフンなし'] = text_data['電話番号'].str.replace('-', '')\n",
    "print('\\n電話番号のハイフンを除去:')\n",
    "print(text_data[['電話番号', '電話番号_ハイフンなし']])\n"
   ]
  },
  {
   "cell_type": "code",
   "execution_count": null,
   "metadata": {},
   "outputs": [],
   "source": [
    "# 日付データの扱い方\n",
    "# 日付を含むデータフレーム\n",
    "date_data = pd.DataFrame({\n",
    "    '日付文字列': ['2024-01-15', '2024-02-20', '2024-03-10', '2024-04-05'],\n",
    "    '売上': [15000, 18000, 22000, 19000]\n",
    "})\n",
    "\n",
    "# 文字列を日付型に変換\n",
    "date_data['日付'] = pd.to_datetime(date_data['日付文字列'])\n",
    "print('日付型に変換:')\n",
    "print(date_data)\n",
    "print('\\nデータ型を確認:')\n",
    "print(date_data.dtypes)\n",
    "\n",
    "# 日付から情報を抽出\n",
    "date_data['年'] = date_data['日付'].dt.year\n",
    "date_data['月'] = date_data['日付'].dt.month\n",
    "date_data['曜日'] = date_data['日付'].dt.day_name()\n",
    "print('\\n日付から情報を抽出:')\n",
    "print(date_data)\n",
    "\n",
    "# 日付でのフィルタリング\n",
    "print('\\n2024年2月以降のデータ:')\n",
    "filtered = date_data[date_data['日付'] >= '2024-02-01']\n",
    "print(filtered[['日付', '売上']])\n"
   ]
  },
  {
   "cell_type": "code",
   "execution_count": null,
   "metadata": {},
   "outputs": [],
   "source": [
    "# apply関数の活用 - カスタム関数の適用\n",
    "# 複雑な処理を行う関数を定義\n",
    "def categorize_sales(sales):\n",
    "    \"\"\"売上を分類する関数\"\"\"\n",
    "    if sales >= 20000:\n",
    "        return '高'\n",
    "    elif sales >= 17000:\n",
    "        return '中'\n",
    "    else:\n",
    "        return '低'\n",
    "\n",
    "# apply()で関数を適用\n",
    "date_data['売上カテゴリ'] = date_data['売上'].apply(categorize_sales)\n",
    "print('売上カテゴリを追加:')\n",
    "print(date_data[['日付', '売上', '売上カテゴリ']])\n",
    "\n",
    "# 複数列に対する処理\n",
    "def calculate_tax(row):\n",
    "    \"\"\"行全体を受け取って消費税込み価格を計算\"\"\"\n",
    "    return row['売上'] * 1.1\n",
    "\n",
    "date_data['税込価格'] = date_data.apply(calculate_tax, axis=1)\n",
    "print('\\n税込価格を計算:')\n",
    "print(date_data[['売上', '税込価格']])\n",
    "\n",
    "# カテゴリ型データの扱い\n",
    "# カテゴリ型に変換するとメモリ効率が良くなる\n",
    "date_data['売上カテゴリ'] = pd.Categorical(date_data['売上カテゴリ'], \n",
    "                                           categories=['低', '中', '高'], \n",
    "                                           ordered=True)\n",
    "print('\\nカテゴリ型の情報:')\n",
    "print(date_data['売上カテゴリ'].dtype)\n"
   ]
  },
  {
   "cell_type": "raw",
   "metadata": {
    "vscode": {
     "languageId": "raw"
    }
   },
   "source": [
    "## まとめ\n",
    "\n",
    "おめでとうございます！この1時間〜1時間半で以下のことを学びました：\n",
    "\n",
    "### 基礎編\n",
    "1. **基本的なPython構文** - `print()`関数、変数、リスト、ループ\n",
    "2. **条件分岐（if文）** - 条件による処理の分岐\n",
    "3. **関数の定義** - コードの再利用、引数とデフォルト値\n",
    "4. **辞書（Dictionary）** - キーと値のペアでデータ管理\n",
    "5. **エラーハンドリング** - try-exceptでエラーを処理\n",
    "\n",
    "### データ分析編  \n",
    "6. **pandas基礎** - データフレームの作成、統計情報の表示\n",
    "7. **pandas応用** - フィルタリング、グループ化、欠損値処理\n",
    "8. **pandas結合** - merge()とconcat()によるデータの結合\n",
    "9. **pandasデータ変形** - ピボットテーブル、並び替え、重複処理\n",
    "10. **pandas実践機能** - 文字列操作、日付処理、apply関数、カテゴリ型\n",
    "11. **ファイル操作** - CSV/テキストファイルの読み書き\n",
    "\n",
    "### 可視化編\n",
    "12. **matplotlib基礎** - 棒グラフ、散布図\n",
    "13. **matplotlib応用** - 折れ線グラフ、ヒストグラム、円グラフ\n",
    "\n",
    "### 次のステップ\n",
    "- **NumPy** - 数値計算ライブラリ\n",
    "- **Seaborn** - より美しい統計グラフ\n",
    "- **機械学習** - scikit-learnで予測モデル作成\n",
    "- **Web開発** - FlaskやDjangoでWebアプリケーション\n",
    "\n",
    "### 練習問題\n",
    "1. 新しいデータセットをCSVから読み込んで分析する\n",
    "2. 複数のデータをmerge()で結合して分析する\n",
    "3. ピボットテーブルを使って集計分析を行う\n",
    "4. 日付データを含むデータセットで時系列分析を試す\n",
    "\n",
    "プログラミングは実践が大切です。エラーを恐れずに、たくさんコードを書いて練習しましょう！\n"
   ]
  },
  {
   "cell_type": "raw",
   "metadata": {},
   "source": []
  }
 ],
 "metadata": {
  "kernelspec": {
   "display_name": "base",
   "language": "python",
   "name": "python3"
  },
  "language_info": {
   "codemirror_mode": {
    "name": "ipython",
    "version": 3
   },
   "file_extension": ".py",
   "mimetype": "text/x-python",
   "name": "python",
   "nbconvert_exporter": "python",
   "pygments_lexer": "ipython3",
   "version": "3.12.2"
  }
 },
 "nbformat": 4,
 "nbformat_minor": 2
}
