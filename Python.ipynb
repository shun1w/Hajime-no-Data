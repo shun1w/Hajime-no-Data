{
 "cells": [
  {
   "cell_type": "raw",
   "metadata": {
    "vscode": {
     "languageId": "raw"
    }
   },
   "source": [
    "# はじめてのPython\n",
    "\n",
    "このノートブックでは、Pythonの基礎からpandasとmatplotlibを使ったデータ分析・可視化まで学びます。\n",
    "\n",
    "## 目次\n",
    "1. Hello, Python!\n",
    "2. 変数と基本的なデータ型\n",
    "3. リストとループ\n",
    "4. pandasでデータを扱う\n",
    "5. matplotlibで作図する\n"
   ]
  },
  {
   "cell_type": "raw",
   "metadata": {
    "vscode": {
     "languageId": "raw"
    }
   },
   "source": [
    "## 1. Hello, Python!\n",
    "\n",
    "まずは、プログラミングの第一歩として画面に文字を表示してみましょう。\n"
   ]
  },
  {
   "cell_type": "code",
   "execution_count": null,
   "metadata": {},
   "outputs": [],
   "source": [
    "# print()関数を使って文字を表示します\n",
    "print('hello')\n",
    "\n",
    "# 日本語も表示できます\n",
    "print('こんにちは、Python！')\n"
   ]
  },
  {
   "cell_type": "raw",
   "metadata": {
    "vscode": {
     "languageId": "raw"
    }
   },
   "source": [
    "## 2. 変数と基本的なデータ型\n",
    "\n",
    "変数は値を保存しておく箱のようなものです。変数に値を入れて、後で使うことができます。\n"
   ]
  },
  {
   "cell_type": "code",
   "execution_count": null,
   "metadata": {},
   "outputs": [],
   "source": [
    "# 数値を変数に保存\n",
    "age = 25\n",
    "print('年齢は', age, '歳です')\n",
    "\n",
    "# 文字列を変数に保存\n",
    "name = '太郎'\n",
    "print('名前は', name, 'です')\n",
    "\n",
    "# 計算もできます\n",
    "height = 170\n",
    "weight = 65\n",
    "bmi = weight / (height/100)**2\n",
    "print('BMIは', round(bmi, 1), 'です')\n"
   ]
  },
  {
   "cell_type": "raw",
   "metadata": {
    "vscode": {
     "languageId": "raw"
    }
   },
   "source": [
    "## 3. リストとループ\n",
    "\n",
    "リストは複数の値をまとめて保存できるデータ構造です。\n"
   ]
  },
  {
   "cell_type": "code",
   "execution_count": null,
   "metadata": {},
   "outputs": [],
   "source": [
    "# リストを作成\n",
    "fruits = ['りんご', 'みかん', 'バナナ', 'ぶどう']\n",
    "print('果物リスト:', fruits)\n",
    "\n",
    "# リストの要素数\n",
    "print('果物の種類:', len(fruits), '個')\n",
    "\n",
    "# forループでリストの要素を1つずつ処理\n",
    "print('\\n好きな果物：')\n",
    "for fruit in fruits:\n",
    "    print('-', fruit)\n"
   ]
  },
  {
   "cell_type": "raw",
   "metadata": {
    "vscode": {
     "languageId": "raw"
    }
   },
   "source": [
    "## 4. pandasでデータを扱う\n",
    "\n",
    "pandasはデータ分析のための強力なライブラリです。表形式のデータを簡単に扱うことができます。\n"
   ]
  },
  {
   "cell_type": "code",
   "execution_count": null,
   "metadata": {},
   "outputs": [],
   "source": [
    "# pandasをインポート（pdという名前で使うのが慣習）\n",
    "import pandas as pd\n",
    "\n",
    "# 簡単なデータを作成\n",
    "data = {\n",
    "    '名前': ['太郎', '花子', '次郎', '美香', '三郎'],\n",
    "    '年齢': [25, 23, 27, 22, 30],\n",
    "    '身長': [170, 158, 175, 162, 168],\n",
    "    '体重': [65, 50, 70, 52, 72]\n",
    "}\n",
    "\n",
    "# DataFrameを作成\n",
    "df = pd.DataFrame(data)\n",
    "print('作成したデータフレーム:')\n",
    "print(df)\n"
   ]
  },
  {
   "cell_type": "code",
   "execution_count": null,
   "metadata": {},
   "outputs": [],
   "source": [
    "# 基本的な統計情報を表示\n",
    "print('データの統計情報:')\n",
    "print(df.describe())\n",
    "\n",
    "# BMIを計算して新しい列を追加\n",
    "df['BMI'] = df['体重'] / (df['身長']/100)**2\n",
    "df['BMI'] = df['BMI'].round(1)  # 小数点第1位まで\n",
    "\n",
    "print('\\nBMIを追加したデータ:')\n",
    "print(df)\n"
   ]
  },
  {
   "cell_type": "raw",
   "metadata": {
    "vscode": {
     "languageId": "raw"
    }
   },
   "source": [
    "## 5. matplotlibで作図する\n",
    "\n",
    "matplotlibはPythonで最も使われているグラフ描画ライブラリです。様々な種類のグラフを作成できます。\n"
   ]
  },
  {
   "cell_type": "code",
   "execution_count": 6,
   "metadata": {},
   "outputs": [],
   "source": [
    "# matplotlibをインポート\n",
    "import matplotlib.pyplot as plt\n",
    "\n",
    "# Jupyter Notebook内でグラフを表示するための設定\n",
    "%matplotlib inline\n",
    "\n",
    "# 日本語フォントの設定（文字化けを防ぐ）\n",
    "plt.rcParams['font.sans-serif'] = ['Hiragino Sans', 'Yu Gothic', 'Meirio', 'Takao', 'IPAexGothic', 'IPAPGothic', 'VL PGothic', 'Noto Sans CJK JP']\n",
    "plt.rcParams['axes.unicode_minus'] = False\n"
   ]
  },
  {
   "cell_type": "code",
   "execution_count": null,
   "metadata": {},
   "outputs": [],
   "source": [
    "# 棒グラフを作成\n",
    "plt.figure(figsize=(8, 6))  # グラフのサイズを設定\n",
    "plt.bar(df['名前'], df['年齢'], color='skyblue')\n",
    "plt.title('メンバーの年齢', fontsize=16)\n",
    "plt.xlabel('名前', fontsize=12)\n",
    "plt.ylabel('年齢', fontsize=12)\n",
    "plt.grid(axis='y', alpha=0.3)  # y軸にグリッドを表示\n",
    "plt.show()\n"
   ]
  },
  {
   "cell_type": "code",
   "execution_count": null,
   "metadata": {},
   "outputs": [],
   "source": [
    "# 散布図を作成（身長と体重の関係）\n",
    "plt.figure(figsize=(8, 6))\n",
    "plt.scatter(df['身長'], df['体重'], s=100, alpha=0.6, color='coral')\n",
    "\n",
    "# 各点に名前を表示\n",
    "for idx, row in df.iterrows():\n",
    "    plt.annotate(row['名前'], (row['身長'], row['体重']), \n",
    "                 xytext=(5, 5), textcoords='offset points')\n",
    "\n",
    "plt.title('身長と体重の関係', fontsize=16)\n",
    "plt.xlabel('身長 (cm)', fontsize=12)\n",
    "plt.ylabel('体重 (kg)', fontsize=12)\n",
    "plt.grid(True, alpha=0.3)\n",
    "plt.show()\n"
   ]
  },
  {
   "cell_type": "code",
   "execution_count": null,
   "metadata": {},
   "outputs": [],
   "source": [
    "# 複数のグラフを並べて表示\n",
    "fig, axes = plt.subplots(1, 2, figsize=(14, 5))\n",
    "\n",
    "# 左側：BMIの棒グラフ\n",
    "axes[0].bar(df['名前'], df['BMI'], color='lightgreen')\n",
    "axes[0].set_title('BMI比較', fontsize=14)\n",
    "axes[0].set_ylabel('BMI', fontsize=12)\n",
    "axes[0].axhline(y=22, color='red', linestyle='--', alpha=0.5, label='標準BMI(22)')\n",
    "axes[0].legend()\n",
    "axes[0].grid(axis='y', alpha=0.3)\n",
    "\n",
    "# 右側：年齢と体重の関係\n",
    "axes[1].scatter(df['年齢'], df['体重'], s=150, alpha=0.6, color='purple')\n",
    "axes[1].set_title('年齢と体重の関係', fontsize=14)\n",
    "axes[1].set_xlabel('年齢', fontsize=12)\n",
    "axes[1].set_ylabel('体重 (kg)', fontsize=12)\n",
    "axes[1].grid(True, alpha=0.3)\n",
    "\n",
    "# 各点に名前を表示\n",
    "for idx, row in df.iterrows():\n",
    "    axes[1].annotate(row['名前'], (row['年齢'], row['体重']), \n",
    "                     xytext=(5, 5), textcoords='offset points')\n",
    "\n",
    "plt.tight_layout()  # レイアウトを調整\n",
    "plt.show()\n"
   ]
  },
  {
   "cell_type": "raw",
   "metadata": {
    "vscode": {
     "languageId": "raw"
    }
   },
   "source": [
    "## 6. 条件分岐（if文）\n",
    "\n",
    "プログラムで「もし〜なら」という条件によって処理を変えたい時に使います。\n"
   ]
  },
  {
   "cell_type": "code",
   "execution_count": null,
   "metadata": {},
   "outputs": [],
   "source": [
    "# 基本的なif文\n",
    "age = 20\n",
    "\n",
    "if age >= 20:\n",
    "    print('成人です')\n",
    "else:\n",
    "    print('未成年です')\n",
    "\n",
    "# 複数の条件（elif）\n",
    "score = 85\n",
    "\n",
    "if score >= 90:\n",
    "    print('評価: 優')\n",
    "elif score >= 80:\n",
    "    print('評価: 良')\n",
    "elif score >= 70:\n",
    "    print('評価: 可')\n",
    "else:\n",
    "    print('評価: 不可')\n"
   ]
  },
  {
   "cell_type": "code",
   "execution_count": null,
   "metadata": {},
   "outputs": [],
   "source": [
    "# BMIによる健康状態の判定\n",
    "def check_health_status(bmi):\n",
    "    if bmi < 18.5:\n",
    "        return '低体重'\n",
    "    elif bmi < 25:\n",
    "        return '標準'\n",
    "    elif bmi < 30:\n",
    "        return '肥満度1'\n",
    "    else:\n",
    "        return '肥満度2以上'\n",
    "\n",
    "# データフレームに健康状態を追加\n",
    "df['健康状態'] = df['BMI'].apply(check_health_status)\n",
    "print(df[['名前', 'BMI', '健康状態']])\n"
   ]
  },
  {
   "cell_type": "raw",
   "metadata": {
    "vscode": {
     "languageId": "raw"
    }
   },
   "source": [
    "## 7. 関数の定義\n",
    "\n",
    "関数を使うと、同じ処理を何度も書かなくて済みます。コードの再利用性が高まります。\n"
   ]
  },
  {
   "cell_type": "code",
   "execution_count": null,
   "metadata": {},
   "outputs": [],
   "source": [
    "# 基本的な関数の定義\n",
    "def greeting(name):\n",
    "    \"\"\"名前を受け取って挨拶を返す関数\"\"\"\n",
    "    return f'こんにちは、{name}さん！'\n",
    "\n",
    "# 関数の呼び出し\n",
    "message = greeting('太郎')\n",
    "print(message)\n",
    "\n",
    "# 複数の引数を持つ関数\n",
    "def calculate_bmi(height_cm, weight_kg):\n",
    "    \"\"\"身長(cm)と体重(kg)からBMIを計算する関数\"\"\"\n",
    "    height_m = height_cm / 100\n",
    "    bmi = weight_kg / (height_m ** 2)\n",
    "    return round(bmi, 1)\n",
    "\n",
    "# 関数の使用\n",
    "my_bmi = calculate_bmi(170, 65)\n",
    "print(f'BMI: {my_bmi}')\n"
   ]
  },
  {
   "cell_type": "code",
   "execution_count": null,
   "metadata": {},
   "outputs": [],
   "source": [
    "# デフォルト引数を持つ関数\n",
    "def introduce(name, age, city='東京'):\n",
    "    \"\"\"自己紹介をする関数（cityはデフォルト値あり）\"\"\"\n",
    "    print(f'私は{name}です。{age}歳で、{city}に住んでいます。')\n",
    "\n",
    "# デフォルト値を使う場合\n",
    "introduce('花子', 25)\n",
    "\n",
    "# デフォルト値を上書きする場合\n",
    "introduce('次郎', 30, '大阪')\n"
   ]
  },
  {
   "cell_type": "raw",
   "metadata": {
    "vscode": {
     "languageId": "raw"
    }
   },
   "source": [
    "## 8. 辞書（Dictionary）\n",
    "\n",
    "辞書はキーと値のペアでデータを管理するデータ構造です。データの検索が高速で、実用的なプログラムでよく使います。\n"
   ]
  },
  {
   "cell_type": "code",
   "execution_count": null,
   "metadata": {},
   "outputs": [],
   "source": [
    "# 辞書の作成\n",
    "person = {\n",
    "    '名前': '田中太郎',\n",
    "    '年齢': 25,\n",
    "    '職業': 'エンジニア',\n",
    "    '趣味': ['読書', 'プログラミング', '映画鑑賞']\n",
    "}\n",
    "\n",
    "# 値の取得\n",
    "print(f\"名前: {person['名前']}\")\n",
    "print(f\"年齢: {person['年齢']}\")\n",
    "\n",
    "# 値の追加・更新\n",
    "person['出身地'] = '東京'  # 新しいキーの追加\n",
    "person['年齢'] = 26  # 既存の値の更新\n",
    "\n",
    "print('\\n更新後の辞書:')\n",
    "print(person)\n"
   ]
  },
  {
   "cell_type": "code",
   "execution_count": null,
   "metadata": {},
   "outputs": [],
   "source": [
    "# 辞書のループ処理\n",
    "print('個人情報:')\n",
    "for key, value in person.items():\n",
    "    print(f'  {key}: {value}')\n",
    "\n",
    "# 複数の辞書をリストに格納\n",
    "members = [\n",
    "    {'名前': '太郎', '年齢': 25, 'スキル': 'Python'},\n",
    "    {'名前': '花子', '年齢': 23, 'スキル': 'JavaScript'},\n",
    "    {'名前': '次郎', '年齢': 27, 'スキル': 'Java'}\n",
    "]\n",
    "\n",
    "# リスト内の辞書を処理\n",
    "print('\\nメンバー一覧:')\n",
    "for member in members:\n",
    "    print(f\"{member['名前']} ({member['年齢']}歳) - {member['スキル']}\")\n"
   ]
  },
  {
   "cell_type": "raw",
   "metadata": {
    "vscode": {
     "languageId": "raw"
    }
   },
   "source": [
    "## 9. エラーハンドリング（try-except）\n",
    "\n",
    "プログラムを実行中にエラーが発生してもプログラムが止まらないようにする仕組みです。\n"
   ]
  },
  {
   "cell_type": "code",
   "execution_count": null,
   "metadata": {},
   "outputs": [],
   "source": [
    "# 基本的なtry-except\n",
    "def divide(a, b):\n",
    "    try:\n",
    "        result = a / b\n",
    "        return result\n",
    "    except ZeroDivisionError:\n",
    "        print('エラー: 0で割ることはできません')\n",
    "        return None\n",
    "\n",
    "# 正常な計算\n",
    "print(f'10 ÷ 2 = {divide(10, 2)}')\n",
    "\n",
    "# エラーが発生する計算\n",
    "print(f'10 ÷ 0 = {divide(10, 0)}')\n"
   ]
  },
  {
   "cell_type": "code",
   "execution_count": null,
   "metadata": {},
   "outputs": [],
   "source": [
    "# 複数のエラーを処理\n",
    "def get_list_item(my_list, index):\n",
    "    try:\n",
    "        return my_list[index]\n",
    "    except IndexError:\n",
    "        print(f'エラー: インデックス{index}は範囲外です')\n",
    "        return None\n",
    "    except TypeError:\n",
    "        print('エラー: インデックスは整数である必要があります')\n",
    "        return None\n",
    "\n",
    "# テスト\n",
    "test_list = ['apple', 'banana', 'orange']\n",
    "\n",
    "print(f'インデックス1: {get_list_item(test_list, 1)}')  # 正常\n",
    "print(f'インデックス10: {get_list_item(test_list, 10)}')  # 範囲外エラー\n",
    "print(f'インデックス\"a\": {get_list_item(test_list, \"a\")}')  # 型エラー\n"
   ]
  },
  {
   "cell_type": "raw",
   "metadata": {
    "vscode": {
     "languageId": "raw"
    }
   },
   "source": [
    "## 10. ファイルの読み書き\n",
    "\n",
    "実際のデータ分析では、CSVファイルなどからデータを読み込むことが多いです。\n"
   ]
  },
  {
   "cell_type": "code",
   "execution_count": null,
   "metadata": {},
   "outputs": [],
   "source": [
    "# CSVファイルとして保存\n",
    "df.to_csv('members_data.csv', index=False, encoding='utf-8-sig')\n",
    "print('CSVファイルを保存しました: members_data.csv')\n",
    "\n",
    "# CSVファイルの読み込み\n",
    "df_loaded = pd.read_csv('members_data.csv')\n",
    "print('\\n読み込んだデータ:')\n",
    "print(df_loaded.head())\n"
   ]
  },
  {
   "cell_type": "code",
   "execution_count": null,
   "metadata": {},
   "outputs": [],
   "source": [
    "# テキストファイルの書き込み\n",
    "with open('sample.txt', 'w', encoding='utf-8') as f:\n",
    "    f.write('Pythonプログラミングを学習中です。\\n')\n",
    "    f.write('ファイルの読み書きは重要なスキルです。\\n')\n",
    "    f.write('頑張って練習しましょう！')\n",
    "\n",
    "print('テキストファイルを作成しました: sample.txt')\n",
    "\n",
    "# テキストファイルの読み込み\n",
    "print('\\nファイルの内容:')\n",
    "with open('sample.txt', 'r', encoding='utf-8') as f:\n",
    "    content = f.read()\n",
    "    print(content)\n"
   ]
  },
  {
   "cell_type": "raw",
   "metadata": {
    "vscode": {
     "languageId": "raw"
    }
   },
   "source": [
    "## 11. pandasの追加機能\n",
    "\n",
    "pandasにはデータ分析に便利な機能がたくさんあります。ここでは実用的な機能を学びましょう。\n"
   ]
  },
  {
   "cell_type": "code",
   "execution_count": null,
   "metadata": {},
   "outputs": [],
   "source": [
    "# データのフィルタリング（条件抽出）\n",
    "print('BMIが22以上の人:')\n",
    "high_bmi = df[df['BMI'] >= 22]\n",
    "print(high_bmi[['名前', 'BMI', '健康状態']])\n",
    "\n",
    "print('\\n20代の人:')\n",
    "twenties = df[(df['年齢'] >= 20) & (df['年齢'] < 30)]\n",
    "print(twenties[['名前', '年齢']])\n"
   ]
  },
  {
   "cell_type": "code",
   "execution_count": null,
   "metadata": {},
   "outputs": [],
   "source": [
    "# グループ化と集計（groupby）\n",
    "# 年代ごとにグループ化するための列を追加\n",
    "df['年代'] = (df['年齢'] // 10) * 10\n",
    "df['年代'] = df['年代'].astype(str) + '代'\n",
    "\n",
    "# 年代別の統計\n",
    "print('年代別の平均値:')\n",
    "age_group_stats = df.groupby('年代')[['身長', '体重', 'BMI']].mean().round(1)\n",
    "print(age_group_stats)\n"
   ]
  },
  {
   "cell_type": "code",
   "execution_count": null,
   "metadata": {},
   "outputs": [],
   "source": [
    "# 欠損値の処理\n",
    "# サンプルデータに欠損値を追加\n",
    "import numpy as np\n",
    "df_with_nan = df.copy()\n",
    "df_with_nan.loc[2, '体重'] = np.nan  # 次郎の体重を欠損値に\n",
    "\n",
    "print('欠損値のあるデータ:')\n",
    "print(df_with_nan[['名前', '体重', 'BMI']])\n",
    "\n",
    "# 欠損値の確認\n",
    "print('\\n欠損値の数:')\n",
    "print(df_with_nan.isnull().sum())\n",
    "\n",
    "# 欠損値を平均値で埋める\n",
    "df_with_nan['体重'].fillna(df_with_nan['体重'].mean(), inplace=True)\n",
    "print('\\n欠損値を埋めた後:')\n",
    "print(df_with_nan[['名前', '体重']])\n"
   ]
  },
  {
   "cell_type": "raw",
   "metadata": {
    "vscode": {
     "languageId": "raw"
    }
   },
   "source": [
    "## 12. matplotlibの追加グラフ\n",
    "\n",
    "データの特性に応じて、様々な種類のグラフを使い分けることが重要です。\n"
   ]
  },
  {
   "cell_type": "code",
   "execution_count": null,
   "metadata": {},
   "outputs": [],
   "source": [
    "# 折れ線グラフ（時系列データの例）\n",
    "# サンプルの月別体重データを作成\n",
    "months = ['1月', '2月', '3月', '4月', '5月', '6月']\n",
    "taro_weight = [65, 64.5, 64, 63.5, 63, 62.5]\n",
    "hanako_weight = [50, 49.5, 49, 48.5, 48, 47.5]\n",
    "\n",
    "plt.figure(figsize=(10, 6))\n",
    "plt.plot(months, taro_weight, marker='o', label='太郎', linewidth=2)\n",
    "plt.plot(months, hanako_weight, marker='s', label='花子', linewidth=2)\n",
    "plt.title('体重の推移', fontsize=16)\n",
    "plt.xlabel('月', fontsize=12)\n",
    "plt.ylabel('体重 (kg)', fontsize=12)\n",
    "plt.legend()\n",
    "plt.grid(True, alpha=0.3)\n",
    "plt.show()\n"
   ]
  },
  {
   "cell_type": "code",
   "execution_count": null,
   "metadata": {},
   "outputs": [],
   "source": [
    "# ヒストグラム（データの分布）\n",
    "# より多くのサンプルデータを生成\n",
    "np.random.seed(42)\n",
    "heights = np.random.normal(165, 10, 100)  # 平均165cm、標準偏差10cmの100人分のデータ\n",
    "\n",
    "plt.figure(figsize=(10, 6))\n",
    "plt.hist(heights, bins=15, color='skyblue', edgecolor='black', alpha=0.7)\n",
    "plt.title('身長の分布', fontsize=16)\n",
    "plt.xlabel('身長 (cm)', fontsize=12)\n",
    "plt.ylabel('人数', fontsize=12)\n",
    "plt.axvline(x=heights.mean(), color='red', linestyle='--', linewidth=2, label=f'平均: {heights.mean():.1f}cm')\n",
    "plt.legend()\n",
    "plt.grid(axis='y', alpha=0.3)\n",
    "plt.show()\n"
   ]
  },
  {
   "cell_type": "code",
   "execution_count": null,
   "metadata": {},
   "outputs": [],
   "source": [
    "# 円グラフ（割合を表示）\n",
    "# 健康状態の人数を集計\n",
    "health_counts = df['健康状態'].value_counts()\n",
    "\n",
    "plt.figure(figsize=(8, 8))\n",
    "plt.pie(health_counts.values, labels=health_counts.index, autopct='%1.1f%%', startangle=90)\n",
    "plt.title('健康状態の割合', fontsize=16)\n",
    "plt.axis('equal')  # 円を正円にする\n",
    "plt.show()\n"
   ]
  },
  {
   "cell_type": "raw",
   "metadata": {
    "vscode": {
     "languageId": "raw"
    }
   },
   "source": [
    "## 13. よくある初心者のミスと対処法\n",
    "\n",
    "Pythonを学び始めたときによく遭遇するエラーと、その解決方法を学びましょう。\n"
   ]
  },
  {
   "cell_type": "code",
   "execution_count": null,
   "metadata": {},
   "outputs": [],
   "source": [
    "# 1. インデントエラー\n",
    "# 正しいインデント\n",
    "def correct_function():\n",
    "    if True:\n",
    "        print('正しいインデント')\n",
    "    \n",
    "correct_function()\n",
    "\n",
    "# よくある間違い（これはエラーになります）\n",
    "# def wrong_function():\n",
    "# print('インデントがありません')  # IndentationError\n",
    "\n",
    "# 2. 変数名の打ち間違い\n",
    "name = '太郎'\n",
    "# print(Name)  # NameError: 大文字小文字は区別される\n",
    "\n",
    "# 3. 文字列と数値の型エラー\n",
    "age = 25\n",
    "# print('年齢は' + age + '歳です')  # TypeError: 文字列と数値は直接結合できない\n",
    "\n",
    "# 正しい方法\n",
    "print('年齢は' + str(age) + '歳です')  # str()で文字列に変換\n",
    "print(f'年齢は{age}歳です')  # f文字列を使う方法（推奨）\n"
   ]
  },
  {
   "cell_type": "code",
   "execution_count": null,
   "metadata": {},
   "outputs": [],
   "source": [
    "# 4. リストのインデックスエラー\n",
    "my_list = [1, 2, 3]\n",
    "print(f'リストの要素: {my_list}')\n",
    "print(f'最初の要素: {my_list[0]}')  # インデックスは0から始まる\n",
    "# print(my_list[3])  # IndexError: リストには3つしか要素がない\n",
    "\n",
    "# 5. 辞書のキーエラー\n",
    "person = {'name': '太郎', 'age': 25}\n",
    "print(person['name'])  # OK\n",
    "# print(person['height'])  # KeyError: 存在しないキー\n",
    "\n",
    "# 安全な方法\n",
    "print(person.get('height', 'データなし'))  # デフォルト値を指定\n",
    "\n",
    "# 6. ゼロ除算エラー\n",
    "a = 10\n",
    "b = 0\n",
    "# result = a / b  # ZeroDivisionError\n",
    "\n",
    "# エラーを防ぐ方法\n",
    "if b != 0:\n",
    "    result = a / b\n",
    "else:\n",
    "    print('0で割ることはできません')\n"
   ]
  },
  {
   "cell_type": "raw",
   "metadata": {
    "vscode": {
     "languageId": "raw"
    }
   },
   "source": [
    "## まとめ\n",
    "\n",
    "おめでとうございます！この1時間〜1時間半で以下のことを学びました：\n",
    "\n",
    "### 基礎編\n",
    "1. **基本的なPython構文** - `print()`関数、変数、リスト、ループ\n",
    "2. **条件分岐（if文）** - 条件による処理の分岐\n",
    "3. **関数の定義** - コードの再利用、引数とデフォルト値\n",
    "4. **辞書（Dictionary）** - キーと値のペアでデータ管理\n",
    "5. **エラーハンドリング** - try-exceptでエラーを処理\n",
    "\n",
    "### データ分析編  \n",
    "6. **pandas基礎** - データフレームの作成、統計情報の表示\n",
    "7. **pandas応用** - フィルタリング、グループ化、欠損値処理\n",
    "8. **ファイル操作** - CSV/テキストファイルの読み書き\n",
    "\n",
    "### 可視化編\n",
    "9. **matplotlib基礎** - 棒グラフ、散布図\n",
    "10. **matplotlib応用** - 折れ線グラフ、ヒストグラム、円グラフ\n",
    "\n",
    "### トラブルシューティング\n",
    "11. **よくあるエラー** - インデント、型エラー、インデックスエラーなど\n",
    "\n",
    "### 次のステップ\n",
    "- **NumPy** - 数値計算ライブラリ\n",
    "- **Seaborn** - より美しい統計グラフ\n",
    "- **機械学習** - scikit-learnで予測モデル作成\n",
    "- **Web開発** - FlaskやDjangoでWebアプリケーション\n",
    "\n",
    "### 練習問題\n",
    "1. 新しいデータセットをCSVから読み込んで分析する\n",
    "2. 複数の条件でデータをフィルタリングして可視化する  \n",
    "3. 自分でデータを収集して、学んだ技術で分析してみる\n",
    "\n",
    "プログラミングは実践が大切です。エラーを恐れずに、たくさんコードを書いて練習しましょう！\n"
   ]
  },
  {
   "cell_type": "raw",
   "metadata": {},
   "source": []
  }
 ],
 "metadata": {
  "kernelspec": {
   "display_name": "base",
   "language": "python",
   "name": "python3"
  },
  "language_info": {
   "codemirror_mode": {
    "name": "ipython",
    "version": 3
   },
   "file_extension": ".py",
   "mimetype": "text/x-python",
   "name": "python",
   "nbconvert_exporter": "python",
   "pygments_lexer": "ipython3",
   "version": "3.12.2"
  }
 },
 "nbformat": 4,
 "nbformat_minor": 2
}
