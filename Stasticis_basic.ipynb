{
  "cells": [
    {
      "cell_type": "raw",
      "metadata": {
        "vscode": {
          "languageId": "raw"
        }
      },
      "source": [
        "# 医学生のための統計分析入門（30分コース）\n",
        "\n",
        "このノートブックでは、Pima Indians Diabetes Datasetを用いて統計分析の基礎を学びます。\n",
        "特に**相関分析**と**カイ二乗検定**を中心に、医療データ分析の実践的なスキルを身につけます。\n",
        "\n",
        "## 目次\n",
        "1. 統計分析とは？医療での重要性\n",
        "2. データの準備（クイックスタート）\n",
        "3. 記述統計 - データの要約\n",
        "4. 相関分析 - 変数間の関係を探る\n",
        "   - Pearson相関係数\n",
        "   - Spearman順位相関係数\n",
        "5. カイ二乗検定 - カテゴリカル変数の独立性検定\n",
        "6. 実践的な解釈と注意点\n"
      ]
    },
    {
      "cell_type": "raw",
      "metadata": {
        "vscode": {
          "languageId": "raw"
        }
      },
      "source": [
        "## 1. 統計分析とは？医療での重要性\n",
        "\n",
        "### なぜ医学生に統計が必要か？\n",
        "- **エビデンスベース医療（EBM）**: 臨床研究の結果を正しく解釈\n",
        "- **研究論文の読解**: p値、信頼区間、相関係数の意味を理解\n",
        "- **臨床データの分析**: 患者データから有意義な知見を得る\n",
        "\n",
        "### 今回学ぶ統計手法\n",
        "1. **相関分析**: 連続変数間の関係性（血糖値とBMIの関係など）\n",
        "2. **カイ二乗検定**: カテゴリカル変数の独立性（性別と疾患の関係など）\n",
        "\n",
        "### 実データで学ぶメリット\n",
        "- 理論だけでなく実践的なスキルが身につく\n",
        "- データの「汚さ」への対処法を学べる\n",
        "- 結果の臨床的解釈を考える習慣がつく\n"
      ]
    },
    {
      "cell_type": "code",
      "execution_count": null,
      "metadata": {},
      "outputs": [],
      "source": [
        "# 必要なライブラリのインポート\n",
        "import numpy as np\n",
        "import pandas as pd\n",
        "import matplotlib.pyplot as plt\n",
        "import seaborn as sns\n",
        "from scipy import stats\n",
        "from scipy.stats import chi2_contingency, pearsonr, spearmanr\n",
        "import warnings\n",
        "warnings.filterwarnings('ignore')\n",
        "\n",
        "# 日本語表示の設定\n",
        "plt.rcParams['font.sans-serif'] = ['Hiragino Sans', 'Yu Gothic', 'Meirio', 'Takao', 'IPAexGothic', 'IPAPGothic', 'VL PGothic', 'Noto Sans CJK JP']\n",
        "plt.rcParams['axes.unicode_minus'] = False\n",
        "\n",
        "print(\"ライブラリのインポートが完了しました\")\n"
      ]
    },
    {
      "cell_type": "raw",
      "metadata": {
        "vscode": {
          "languageId": "raw"
        }
      },
      "source": [
        "## 2. データの準備（クイックスタート）\n",
        "\n",
        "Pima Indians Diabetes Dataset：実際の医療研究データを使用します。\n"
      ]
    },
    {
      "cell_type": "code",
      "execution_count": null,
      "metadata": {},
      "outputs": [],
      "source": [
        "# データの読み込み\n",
        "url = \"https://raw.githubusercontent.com/npradaschnor/Pima-Indians-Diabetes-Dataset/master/diabetes.csv\"\n",
        "df = pd.read_csv(url)\n",
        "\n",
        "# データの概要\n",
        "print(\"データ形状:\", df.shape)\n",
        "print(\"\\n変数一覧:\")\n",
        "print(\"- Pregnancies: 妊娠回数\")\n",
        "print(\"- Glucose: 2時間後血糖値 (mg/dL)\")\n",
        "print(\"- BloodPressure: 拡張期血圧 (mmHg)\")\n",
        "print(\"- SkinThickness: 皮下脂肪厚 (mm)\")\n",
        "print(\"- Insulin: 2時間後インスリン (μU/ml)\")\n",
        "print(\"- BMI: 体格指数\")\n",
        "print(\"- DiabetesPedigreeFunction: 遺伝的リスクスコア\")\n",
        "print(\"- Age: 年齢\")\n",
        "print(\"- Outcome: 糖尿病 (1:あり, 0:なし)\")\n",
        "\n",
        "# 最初の5行を表示\n",
        "df.head()\n"
      ]
    },
    {
      "cell_type": "code",
      "execution_count": null,
      "metadata": {},
      "outputs": [],
      "source": [
        "# 簡単なデータクリーニング（0を欠損値として処理）\n",
        "# 生理学的にありえない0を中央値で置換\n",
        "df_clean = df.copy()\n",
        "zero_cols = ['Glucose', 'BloodPressure', 'SkinThickness', 'Insulin', 'BMI']\n",
        "\n",
        "for col in zero_cols:\n",
        "    median_val = df_clean[df_clean[col] > 0][col].median()\n",
        "    df_clean.loc[df_clean[col] == 0, col] = median_val\n",
        "\n",
        "print(\"データクリーニング完了\")\n",
        "print(f\"処理後のデータ形状: {df_clean.shape}\")\n"
      ]
    },
    {
      "cell_type": "raw",
      "metadata": {
        "vscode": {
          "languageId": "raw"
        }
      },
      "source": [
        "## 3. 記述統計 - データの要約\n",
        "\n",
        "### 記述統計とは？\n",
        "データの特徴を数値で要約する手法です。\n",
        "\n",
        "- **中心傾向**: 平均値、中央値、最頻値\n",
        "- **散布度**: 標準偏差、四分位範囲\n",
        "- **分布の形**: 歪度、尖度\n"
      ]
    },
    {
      "cell_type": "code",
      "execution_count": null,
      "metadata": {},
      "outputs": [],
      "source": [
        "# 基本統計量の計算\n",
        "print(\"=== 全体の基本統計量 ===\")\n",
        "print(df_clean.describe())\n",
        "\n",
        "# 糖尿病の有無で分けた統計量\n",
        "print(\"\\n=== 健常者の統計量 ===\")\n",
        "print(df_clean[df_clean['Outcome'] == 0].describe()[['Glucose', 'BMI', 'Age']].round(2))\n",
        "\n",
        "print(\"\\n=== 糖尿病患者の統計量 ===\")\n",
        "print(df_clean[df_clean['Outcome'] == 1].describe()[['Glucose', 'BMI', 'Age']].round(2))\n"
      ]
    },
    {
      "cell_type": "code",
      "execution_count": null,
      "metadata": {},
      "outputs": [],
      "source": [
        "# 主要変数の分布を可視化\n",
        "fig, axes = plt.subplots(2, 2, figsize=(12, 10))\n",
        "key_vars = ['Glucose', 'BMI', 'Age', 'BloodPressure']\n",
        "\n",
        "for i, var in enumerate(key_vars):\n",
        "    ax = axes[i//2, i%2]\n",
        "    \n",
        "    # ヒストグラムとカーネル密度推定\n",
        "    df_clean[df_clean['Outcome']==0][var].hist(bins=30, alpha=0.5, label='健常者', ax=ax, density=True, color='blue')\n",
        "    df_clean[df_clean['Outcome']==1][var].hist(bins=30, alpha=0.5, label='糖尿病', ax=ax, density=True, color='red')\n",
        "    \n",
        "    # 平均値の線を追加\n",
        "    mean_healthy = df_clean[df_clean['Outcome']==0][var].mean()\n",
        "    mean_diabetic = df_clean[df_clean['Outcome']==1][var].mean()\n",
        "    ax.axvline(mean_healthy, color='blue', linestyle='--', linewidth=2, label=f'健常者平均: {mean_healthy:.1f}')\n",
        "    ax.axvline(mean_diabetic, color='red', linestyle='--', linewidth=2, label=f'糖尿病平均: {mean_diabetic:.1f}')\n",
        "    \n",
        "    ax.set_xlabel(var)\n",
        "    ax.set_ylabel('密度')\n",
        "    ax.set_title(f'{var}の分布')\n",
        "    ax.legend()\n",
        "\n",
        "plt.tight_layout()\n",
        "plt.show()\n",
        "\n",
        "print(\"考察: 糖尿病群では血糖値、BMI、年齢が高い傾向が見られます。\")\n"
      ]
    },
    {
      "cell_type": "raw",
      "metadata": {
        "vscode": {
          "languageId": "raw"
        }
      },
      "source": [
        "## 4. 相関分析 - 変数間の関係を探る\n",
        "\n",
        "### 相関係数とは？\n",
        "2つの変数間の**線形的な関係の強さ**を表す指標（-1から1の値）\n",
        "\n",
        "### Pearson相関係数 vs Spearman順位相関係数\n",
        "- **Pearson**: 線形関係を測定、正規分布を仮定\n",
        "- **Spearman**: 単調関係を測定、順位データに適用可能\n",
        "\n",
        "### 相関係数の解釈\n",
        "- 0.7以上: 強い相関\n",
        "- 0.4-0.7: 中程度の相関\n",
        "- 0.2-0.4: 弱い相関\n",
        "- 0.2未満: ほぼ無相関\n"
      ]
    },
    {
      "cell_type": "code",
      "execution_count": null,
      "metadata": {},
      "outputs": [],
      "source": [
        "# Pearson相関係数の計算と可視化\n",
        "plt.figure(figsize=(10, 8))\n",
        "pearson_corr = df_clean.corr(method='pearson')\n",
        "mask = np.triu(np.ones_like(pearson_corr, dtype=bool))\n",
        "sns.heatmap(pearson_corr, mask=mask, annot=True, cmap='RdBu_r', center=0, \n",
        "            vmin=-1, vmax=1, square=True, linewidths=1)\n",
        "plt.title('Pearson相関係数行列', fontsize=16)\n",
        "plt.tight_layout()\n",
        "plt.show()\n",
        "\n",
        "# 糖尿病との相関が高い変数\n",
        "outcome_corr = pearson_corr['Outcome'].sort_values(ascending=False)\n",
        "print(\"糖尿病(Outcome)との相関係数:\")\n",
        "print(outcome_corr)\n"
      ]
    },
    {
      "cell_type": "code",
      "execution_count": null,
      "metadata": {},
      "outputs": [],
      "source": [
        "# 特定の変数ペアの詳細な相関分析\n",
        "# 例: GlucoseとBMIの関係\n",
        "fig, axes = plt.subplots(1, 3, figsize=(15, 5))\n",
        "\n",
        "# 1. 散布図（全体）\n",
        "axes[0].scatter(df_clean['Glucose'], df_clean['BMI'], alpha=0.5)\n",
        "axes[0].set_xlabel('Glucose (mg/dL)')\n",
        "axes[0].set_ylabel('BMI')\n",
        "axes[0].set_title('GlucoseとBMIの散布図（全体）')\n",
        "\n",
        "# 回帰直線を追加\n",
        "z = np.polyfit(df_clean['Glucose'], df_clean['BMI'], 1)\n",
        "p = np.poly1d(z)\n",
        "axes[0].plot(df_clean['Glucose'], p(df_clean['Glucose']), \"r--\", alpha=0.8)\n",
        "\n",
        "# 2. 散布図（糖尿病の有無で色分け）\n",
        "colors = ['blue', 'red']\n",
        "labels = ['健常者', '糖尿病']\n",
        "for outcome, color, label in zip([0, 1], colors, labels):\n",
        "    mask = df_clean['Outcome'] == outcome\n",
        "    axes[1].scatter(df_clean[mask]['Glucose'], df_clean[mask]['BMI'], \n",
        "                   alpha=0.5, color=color, label=label)\n",
        "axes[1].set_xlabel('Glucose (mg/dL)')\n",
        "axes[1].set_ylabel('BMI')\n",
        "axes[1].set_title('GlucoseとBMIの散布図（グループ別）')\n",
        "axes[1].legend()\n",
        "\n",
        "# 3. 相関係数の計算と表示\n",
        "# Pearson相関\n",
        "pearson_r, pearson_p = pearsonr(df_clean['Glucose'], df_clean['BMI'])\n",
        "# Spearman相関\n",
        "spearman_r, spearman_p = spearmanr(df_clean['Glucose'], df_clean['BMI'])\n",
        "\n",
        "axes[2].text(0.1, 0.8, f'Pearson相関係数: {pearson_r:.3f}', fontsize=14, transform=axes[2].transAxes)\n",
        "axes[2].text(0.1, 0.7, f'p値: {pearson_p:.4f}', fontsize=12, transform=axes[2].transAxes)\n",
        "axes[2].text(0.1, 0.5, f'Spearman相関係数: {spearman_r:.3f}', fontsize=14, transform=axes[2].transAxes)\n",
        "axes[2].text(0.1, 0.4, f'p値: {spearman_p:.4f}', fontsize=12, transform=axes[2].transAxes)\n",
        "\n",
        "if pearson_p < 0.05:\n",
        "    axes[2].text(0.1, 0.2, '統計的に有意な相関あり', fontsize=12, color='red', transform=axes[2].transAxes)\n",
        "else:\n",
        "    axes[2].text(0.1, 0.2, '統計的に有意な相関なし', fontsize=12, color='blue', transform=axes[2].transAxes)\n",
        "\n",
        "axes[2].axis('off')\n",
        "axes[2].set_title('相関分析の結果')\n",
        "\n",
        "plt.tight_layout()\n",
        "plt.show()\n"
      ]
    },
    {
      "cell_type": "code",
      "execution_count": null,
      "metadata": {},
      "outputs": [],
      "source": [
        "# 相関の強さを視覚的に比較\n",
        "# 糖尿病との相関が強い上位5変数\n",
        "top_corr_features = outcome_corr[1:6]  # Outcome自身を除く\n",
        "\n",
        "fig, axes = plt.subplots(2, 3, figsize=(15, 10))\n",
        "axes = axes.ravel()\n",
        "\n",
        "for i, (feature, corr_value) in enumerate(top_corr_features.items()):\n",
        "    # 散布図\n",
        "    for outcome, color, label in zip([0, 1], ['blue', 'red'], ['健常者', '糖尿病']):\n",
        "        mask = df_clean['Outcome'] == outcome\n",
        "        axes[i].scatter(df_clean[mask][feature], df_clean[mask]['Outcome'] + \n",
        "                       np.random.normal(0, 0.02, size=mask.sum()),  # ジッターを追加\n",
        "                       alpha=0.3, color=color, label=label)\n",
        "    \n",
        "    axes[i].set_xlabel(feature)\n",
        "    axes[i].set_ylabel('糖尿病（0:なし, 1:あり）')\n",
        "    axes[i].set_title(f'{feature}\\n相関係数: {corr_value:.3f}')\n",
        "    axes[i].set_ylim(-0.5, 1.5)\n",
        "    if i == 0:\n",
        "        axes[i].legend()\n",
        "\n",
        "# 最後の軸を削除\n",
        "fig.delaxes(axes[5])\n",
        "\n",
        "plt.suptitle('糖尿病との相関が強い上位5変数', fontsize=16)\n",
        "plt.tight_layout()\n",
        "plt.show()\n"
      ]
    },
    {
      "cell_type": "raw",
      "metadata": {
        "vscode": {
          "languageId": "raw"
        }
      },
      "source": [
        "## 5. カイ二乗検定 - カテゴリカル変数の独立性検定\n",
        "\n",
        "### カイ二乗検定とは？\n",
        "2つの**カテゴリカル変数**が独立かどうかを検定する手法\n",
        "\n",
        "### 医療での応用例\n",
        "- 性別と疾患の関連性\n",
        "- 治療法と予後の関連性\n",
        "- リスクファクターと発症の関連性\n",
        "\n",
        "### 前提条件\n",
        "- 期待度数が5以上（小さい場合はFisherの正確検定を使用）\n",
        "- 観測値が独立\n"
      ]
    },
    {
      "cell_type": "code",
      "execution_count": null,
      "metadata": {},
      "outputs": [],
      "source": [
        "# 連続変数をカテゴリカル変数に変換\n",
        "# 年齢をカテゴリ化\n",
        "df_clean['Age_Category'] = pd.cut(df_clean['Age'], \n",
        "                                  bins=[0, 30, 40, 50, 100], \n",
        "                                  labels=['30歳未満', '30-39歳', '40-49歳', '50歳以上'])\n",
        "\n",
        "# BMIをカテゴリ化（WHO基準）\n",
        "df_clean['BMI_Category'] = pd.cut(df_clean['BMI'], \n",
        "                                  bins=[0, 18.5, 25, 30, 100], \n",
        "                                  labels=['低体重', '標準', '過体重', '肥満'])\n",
        "\n",
        "# 血糖値をカテゴリ化\n",
        "df_clean['Glucose_Category'] = pd.cut(df_clean['Glucose'], \n",
        "                                      bins=[0, 100, 125, 200], \n",
        "                                      labels=['正常', '境界型', '糖尿病型'])\n",
        "\n",
        "print(\"カテゴリ変数の作成完了\")\n"
      ]
    },
    {
      "cell_type": "code",
      "execution_count": null,
      "metadata": {},
      "outputs": [],
      "source": [
        "# 年齢カテゴリと糖尿病の関係を検定\n",
        "# クロス集計表の作成\n",
        "crosstab_age = pd.crosstab(df_clean['Age_Category'], df_clean['Outcome'], \n",
        "                           margins=True, margins_name='合計')\n",
        "crosstab_age.columns = ['健常者', '糖尿病', '合計']\n",
        "\n",
        "print(\"=== 年齢カテゴリ × 糖尿病のクロス集計表 ===\")\n",
        "print(crosstab_age)\n",
        "print()\n",
        "\n",
        "# カイ二乗検定の実行\n",
        "chi2, p_value, dof, expected = chi2_contingency(crosstab_age.iloc[:-1, :-1])\n",
        "\n",
        "print(f\"カイ二乗統計量: {chi2:.3f}\")\n",
        "print(f\"p値: {p_value:.4f}\")\n",
        "print(f\"自由度: {dof}\")\n",
        "\n",
        "if p_value < 0.05:\n",
        "    print(\"\\n結論: 年齢カテゴリと糖尿病には有意な関連がある（p < 0.05）\")\n",
        "else:\n",
        "    print(\"\\n結論: 年齢カテゴリと糖尿病には有意な関連がない（p ≥ 0.05）\")\n",
        "\n",
        "# 期待度数の表示\n",
        "print(\"\\n期待度数:\")\n",
        "expected_df = pd.DataFrame(expected, \n",
        "                          index=crosstab_age.index[:-1], \n",
        "                          columns=['健常者', '糖尿病'])\n",
        "print(expected_df.round(2))\n"
      ]
    },
    {
      "cell_type": "code",
      "execution_count": null,
      "metadata": {},
      "outputs": [],
      "source": [
        "# 複数のカテゴリ変数でカイ二乗検定を実行\n",
        "categorical_vars = ['Age_Category', 'BMI_Category', 'Glucose_Category']\n",
        "chi2_results = []\n",
        "\n",
        "fig, axes = plt.subplots(1, 3, figsize=(15, 5))\n",
        "\n",
        "for i, var in enumerate(categorical_vars):\n",
        "    # クロス集計\n",
        "    crosstab = pd.crosstab(df_clean[var], df_clean['Outcome'])\n",
        "    \n",
        "    # カイ二乗検定\n",
        "    chi2, p_value, _, _ = chi2_contingency(crosstab)\n",
        "    chi2_results.append({'変数': var, 'カイ二乗統計量': chi2, 'p値': p_value})\n",
        "    \n",
        "    # 視覚化（積み上げ棒グラフ）\n",
        "    crosstab_pct = crosstab.div(crosstab.sum(axis=1), axis=0) * 100\n",
        "    crosstab_pct.plot(kind='bar', stacked=True, ax=axes[i], \n",
        "                     color=['lightblue', 'lightcoral'])\n",
        "    axes[i].set_title(f'{var}\\np値: {p_value:.4f}')\n",
        "    axes[i].set_ylabel('割合 (%)')\n",
        "    axes[i].set_xticklabels(axes[i].get_xticklabels(), rotation=45)\n",
        "    axes[i].legend(['健常者', '糖尿病'], loc='upper right')\n",
        "\n",
        "plt.tight_layout()\n",
        "plt.show()\n",
        "\n",
        "# 結果のサマリー\n",
        "chi2_summary = pd.DataFrame(chi2_results)\n",
        "chi2_summary['有意性'] = chi2_summary['p値'].apply(lambda x: '***' if x < 0.001 else '**' if x < 0.01 else '*' if x < 0.05 else 'n.s.')\n",
        "print(\"\\n=== カイ二乗検定の結果まとめ ===\")\n",
        "print(chi2_summary)\n",
        "print(\"\\n有意水準: *** p<0.001, ** p<0.01, * p<0.05, n.s. 有意差なし\")\n"
      ]
    },
    {
      "cell_type": "code",
      "execution_count": null,
      "metadata": {},
      "outputs": [],
      "source": [
        "# 効果量（Cramer's V）の計算\n",
        "def cramers_v(chi2, n, r, c):\n",
        "    \"\"\"Cramer's Vを計算する関数\"\"\"\n",
        "    return np.sqrt(chi2 / (n * min(r-1, c-1)))\n",
        "\n",
        "print(\"=== 効果量（Cramer's V）の計算 ===\")\n",
        "for var in categorical_vars:\n",
        "    crosstab = pd.crosstab(df_clean[var], df_clean['Outcome'])\n",
        "    chi2, _, _, _ = chi2_contingency(crosstab)\n",
        "    n = crosstab.sum().sum()\n",
        "    r, c = crosstab.shape\n",
        "    v = cramers_v(chi2, n, r, c)\n",
        "    \n",
        "    print(f\"\\n{var}:\")\n",
        "    print(f\"  Cramer's V = {v:.3f}\")\n",
        "    if v < 0.1:\n",
        "        print(\"  効果量: ごく小さい\")\n",
        "    elif v < 0.3:\n",
        "        print(\"  効果量: 小さい\")\n",
        "    elif v < 0.5:\n",
        "        print(\"  効果量: 中程度\")\n",
        "    else:\n",
        "        print(\"  効果量: 大きい\")\n"
      ]
    },
    {
      "cell_type": "raw",
      "metadata": {
        "vscode": {
          "languageId": "raw"
        }
      },
      "source": [
        "## 6. 実践的な解釈と注意点\n",
        "\n",
        "### 統計分析結果の解釈\n",
        "\n",
        "#### 相関分析から分かったこと\n",
        "1. **Glucose（血糖値）が最も強い相関**\n",
        "   - 糖尿病診断の主要な指標として妥当\n",
        "   - 相関係数 > 0.4 は臨床的に意味のある関連\n",
        "\n",
        "2. **BMI、年齢も中程度の相関**\n",
        "   - 既知のリスクファクターと一致\n",
        "   - 予防医学的介入のターゲット\n",
        "\n",
        "#### カイ二乗検定から分かったこと\n",
        "1. **年齢カテゴリと糖尿病の関連**\n",
        "   - 加齢とともにリスク増加\n",
        "   - スクリーニング対象の選定に有用\n",
        "\n",
        "2. **BMIカテゴリと糖尿病の関連**\n",
        "   - 肥満は重要なリスクファクター\n",
        "   - 生活習慣改善の重要性\n",
        "\n",
        "### 統計的有意性 vs 臨床的意義\n",
        "- **p < 0.05 でも効果量が小さい場合**は臨床的意義は限定的\n",
        "- **大規模研究では小さな差でも有意**になりやすい\n",
        "- **信頼区間**も併せて評価することが重要\n"
      ]
    },
    {
      "cell_type": "raw",
      "metadata": {
        "vscode": {
          "languageId": "raw"
        }
      },
      "source": [
        "## まとめ：30分で学んだ統計分析\n",
        "\n",
        "### 今回学んだこと\n",
        "\n",
        "#### 1. 記述統計\n",
        "- データの要約方法（平均、中央値、標準偏差）\n",
        "- グループ間の比較\n",
        "- 分布の可視化\n",
        "\n",
        "#### 2. 相関分析\n",
        "- **Pearson相関係数**: 線形関係の強さ\n",
        "- **Spearman相関係数**: 順位相関\n",
        "- 相関≠因果関係\n",
        "\n",
        "#### 3. カイ二乗検定\n",
        "- カテゴリカル変数の独立性検定\n",
        "- クロス集計表の作成と解釈\n",
        "- 効果量（Cramer's V）の重要性\n",
        "\n",
        "### 臨床研究での応用\n",
        "\n",
        "1. **研究デザイン**\n",
        "   - 適切なサンプルサイズの設定\n",
        "   - 交絡因子の考慮\n",
        "\n",
        "2. **データ収集**\n",
        "   - 欠損値を最小限に\n",
        "   - 測定の標準化\n",
        "\n",
        "3. **結果の解釈**\n",
        "   - 統計的有意性と臨床的意義の区別\n",
        "   - 多重検定の問題\n",
        "\n",
        "### 次のステップ\n",
        "\n",
        "1. **より高度な統計手法**\n",
        "   - 回帰分析（重回帰、ロジスティック回帰）\n",
        "   - 生存時間分析\n",
        "   - 多変量解析\n",
        "\n",
        "2. **実践的なスキル**\n",
        "   - RやPythonでの統計解析\n",
        "   - 医学論文の批判的吟味\n",
        "   - 自分の研究への応用\n",
        "\n",
        "3. **統計ソフトウェア**\n",
        "   - SPSS、SAS、Stata\n",
        "   - R（無料、豊富なパッケージ）\n",
        "   - Python（機械学習との連携）\n",
        "\n",
        "### 重要なメッセージ\n",
        "\n",
        "統計は医学研究の**道具**です。\n",
        "- 臨床的な問いが先にあり、統計はそれに答える手段\n",
        "- 結果の解釈には医学的知識が不可欠\n",
        "- 継続的な学習で、より良い臨床医・研究者に\n",
        "\n",
        "**統計リテラシーは現代の医師に必須のスキルです！**\n"
      ]
    }
  ],
  "metadata": {
    "kernelspec": {
      "display_name": "base",
      "language": "python",
      "name": "python3"
    },
    "language_info": {
      "codemirror_mode": {
        "name": "ipython",
        "version": 3
      },
      "file_extension": ".py",
      "mimetype": "text/x-python",
      "name": "python",
      "nbconvert_exporter": "python",
      "pygments_lexer": "ipython3",
      "version": "3.12.2"
    }
  },
  "nbformat": 4,
  "nbformat_minor": 2
}
