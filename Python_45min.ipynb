{
  "cells": [
    {
      "cell_type": "raw",
      "metadata": {
        "vscode": {
          "languageId": "raw"
        }
      },
      "source": [
        "# はじめてのデータ分析 with Python\n",
        "\n",
        "このノートブックでは、45分でPythonを使ったデータ分析の基礎を学びます。\n",
        "\n",
        "## 目次\n",
        "1. 最小限のPython基礎（5分）\n",
        "2. pandasでデータを扱う（15分）\n",
        "3. データのフィルタリングと集計（10分）\n",
        "4. matplotlibで可視化（15分）\n"
      ]
    },
    {
      "cell_type": "raw",
      "metadata": {
        "vscode": {
          "languageId": "raw"
        }
      },
      "source": [
        "## 1. 最小限のPython基礎（5分）\n",
        "\n",
        "データ分析に必要な最小限のPython知識を学びます。\n"
      ]
    },
    {
      "cell_type": "code",
      "execution_count": null,
      "metadata": {},
      "outputs": [],
      "source": [
        "# print()で画面に表示\n",
        "print('Hello, Python!')\n",
        "print('データ分析を始めましょう！')\n",
        "\n",
        "# 変数に値を保存\n",
        "name = '太郎'\n",
        "age = 25\n",
        "height = 170\n",
        "\n",
        "# 変数を使って計算\n",
        "print(name, 'さんは', age, '歳です')\n",
        "print('身長は', height, 'cmです')\n"
      ]
    },
    {
      "cell_type": "raw",
      "metadata": {
        "vscode": {
          "languageId": "raw"
        }
      },
      "source": [
        "## 2. pandasでデータを扱う（15分）\n",
        "\n",
        "pandasはPythonでデータ分析を行うための最も重要なライブラリです。Excelのような表形式のデータを簡単に扱うことができます。\n"
      ]
    },
    {
      "cell_type": "code",
      "execution_count": null,
      "metadata": {},
      "outputs": [],
      "source": [
        "# pandasをインポート（pdという名前で使うのが慣習）\n",
        "import pandas as pd\n",
        "\n",
        "# データを辞書形式で作成\n",
        "data = {\n",
        "    '名前': ['太郎', '花子', '次郎', '美香', '三郎'],\n",
        "    '年齢': [25, 23, 27, 22, 30],\n",
        "    '身長': [170, 158, 175, 162, 168],\n",
        "    '体重': [65, 50, 70, 52, 72]\n",
        "}\n",
        "\n",
        "# DataFrameを作成（Excelのような表形式）\n",
        "df = pd.DataFrame(data)\n",
        "print('作成したデータフレーム:')\n",
        "print(df)\n"
      ]
    },
    {
      "cell_type": "code",
      "execution_count": null,
      "metadata": {},
      "outputs": [],
      "source": [
        "# 基本的な統計情報を表示\n",
        "print('データの統計情報:')\n",
        "print(df.describe())\n",
        "\n",
        "# BMIを計算して新しい列を追加\n",
        "df['BMI'] = df['体重'] / (df['身長']/100)**2\n",
        "df['BMI'] = df['BMI'].round(1)  # 小数点第1位まで\n",
        "\n",
        "print('\\nBMIを追加したデータ:')\n",
        "print(df)\n"
      ]
    },
    {
      "cell_type": "raw",
      "metadata": {
        "vscode": {
          "languageId": "raw"
        }
      },
      "source": [
        "## 3. データのフィルタリングと集計（10分）\n",
        "\n",
        "実際のデータ分析では、条件に合うデータを抽出したり、グループごとに集計したりすることが重要です。\n"
      ]
    },
    {
      "cell_type": "code",
      "execution_count": null,
      "metadata": {},
      "outputs": [],
      "source": [
        "# 条件に合うデータを抽出（フィルタリング）\n",
        "print('BMIが22以上の人:')\n",
        "high_bmi = df[df['BMI'] >= 22]\n",
        "print(high_bmi[['名前', 'BMI']])\n",
        "\n",
        "print('\\n25歳以下の人:')\n",
        "young = df[df['年齢'] <= 25]\n",
        "print(young[['名前', '年齢']])\n",
        "\n",
        "# 複数条件での抽出\n",
        "print('\\n20代の人（20歳以上30歳未満）:')\n",
        "twenties = df[(df['年齢'] >= 20) & (df['年齢'] < 30)]\n",
        "print(twenties[['名前', '年齢']])\n"
      ]
    },
    {
      "cell_type": "code",
      "execution_count": null,
      "metadata": {},
      "outputs": [],
      "source": [
        "# データの並び替え\n",
        "print('年齢順に並び替え:')\n",
        "sorted_by_age = df.sort_values('年齢')\n",
        "print(sorted_by_age[['名前', '年齢']])\n",
        "\n",
        "print('\\nBMIの高い順に並び替え:')\n",
        "sorted_by_bmi = df.sort_values('BMI', ascending=False)\n",
        "print(sorted_by_bmi[['名前', 'BMI']])\n"
      ]
    },
    {
      "cell_type": "code",
      "execution_count": null,
      "metadata": {},
      "outputs": [],
      "source": [
        "# グループ化と集計\n",
        "# 年代を追加（20代、30代など）\n",
        "df['年代'] = (df['年齢'] // 10) * 10\n",
        "df['年代'] = df['年代'].astype(str) + '代'\n",
        "\n",
        "print('年代別の平均身長・体重:')\n",
        "age_group_stats = df.groupby('年代')[['身長', '体重']].mean().round(1)\n",
        "print(age_group_stats)\n"
      ]
    },
    {
      "cell_type": "raw",
      "metadata": {
        "vscode": {
          "languageId": "raw"
        }
      },
      "source": [
        "## 4. matplotlibで可視化（15分）\n",
        "\n",
        "データを視覚的に理解するために、グラフを作成しましょう。\n"
      ]
    },
    {
      "cell_type": "code",
      "execution_count": null,
      "metadata": {},
      "outputs": [],
      "source": [
        "# matplotlibをインポート\n",
        "import matplotlib.pyplot as plt\n",
        "\n",
        "# Jupyter Notebook内でグラフを表示するための設定\n",
        "%matplotlib inline\n",
        "\n",
        "# 日本語フォントの設定（文字化けを防ぐ）\n",
        "plt.rcParams['font.sans-serif'] = ['Hiragino Sans', 'Yu Gothic', 'Meirio', 'Takao', 'IPAexGothic', 'IPAPGothic', 'VL PGothic', 'Noto Sans CJK JP']\n",
        "plt.rcParams['axes.unicode_minus'] = False\n"
      ]
    },
    {
      "cell_type": "code",
      "execution_count": null,
      "metadata": {},
      "outputs": [],
      "source": [
        "# 棒グラフ - メンバーの年齢\n",
        "plt.figure(figsize=(8, 5))\n",
        "plt.bar(df['名前'], df['年齢'], color='skyblue')\n",
        "plt.title('メンバーの年齢', fontsize=16)\n",
        "plt.xlabel('名前', fontsize=12)\n",
        "plt.ylabel('年齢', fontsize=12)\n",
        "plt.grid(axis='y', alpha=0.3)\n",
        "plt.show()\n"
      ]
    },
    {
      "cell_type": "code",
      "execution_count": null,
      "metadata": {},
      "outputs": [],
      "source": [
        "# 散布図 - 身長と体重の関係\n",
        "plt.figure(figsize=(8, 6))\n",
        "plt.scatter(df['身長'], df['体重'], s=100, alpha=0.7, color='coral')\n",
        "\n",
        "# 各点に名前を表示\n",
        "for idx, row in df.iterrows():\n",
        "    plt.annotate(row['名前'], (row['身長'], row['体重']), \n",
        "                 xytext=(5, 5), textcoords='offset points')\n",
        "\n",
        "plt.title('身長と体重の関係', fontsize=16)\n",
        "plt.xlabel('身長 (cm)', fontsize=12)\n",
        "plt.ylabel('体重 (kg)', fontsize=12)\n",
        "plt.grid(True, alpha=0.3)\n",
        "plt.show()\n"
      ]
    },
    {
      "cell_type": "code",
      "execution_count": null,
      "metadata": {},
      "outputs": [],
      "source": [
        "# 複数のグラフを並べて表示\n",
        "fig, axes = plt.subplots(1, 2, figsize=(12, 5))\n",
        "\n",
        "# 左側：BMIの棒グラフ\n",
        "axes[0].bar(df['名前'], df['BMI'], color='lightgreen')\n",
        "axes[0].set_title('BMI比較', fontsize=14)\n",
        "axes[0].set_ylabel('BMI', fontsize=12)\n",
        "axes[0].axhline(y=22, color='red', linestyle='--', alpha=0.5, label='標準BMI(22)')\n",
        "axes[0].legend()\n",
        "axes[0].grid(axis='y', alpha=0.3)\n",
        "\n",
        "# 右側：年代別の平均身長\n",
        "age_group_stats['身長'].plot(kind='bar', ax=axes[1], color='orange')\n",
        "axes[1].set_title('年代別平均身長', fontsize=14)\n",
        "axes[1].set_xlabel('年代', fontsize=12)\n",
        "axes[1].set_ylabel('身長 (cm)', fontsize=12)\n",
        "axes[1].grid(axis='y', alpha=0.3)\n",
        "\n",
        "plt.tight_layout()\n",
        "plt.show()\n"
      ]
    },
    {
      "cell_type": "raw",
      "metadata": {
        "vscode": {
          "languageId": "raw"
        }
      },
      "source": [
        "## まとめ\n",
        "\n",
        "おめでとうございます！45分で以下のことを学びました：\n",
        "\n",
        "### 学習内容\n",
        "1. **Python基礎** - print文と変数\n",
        "2. **pandas基礎** - DataFrameの作成、統計情報、列の追加\n",
        "3. **データ操作** - フィルタリング、並び替え、グループ化\n",
        "4. **可視化** - 棒グラフ、散布図、複数グラフの作成\n",
        "\n",
        "### 次のステップ\n",
        "- 実際のCSVファイルを読み込んで分析してみる\n",
        "- より複雑な条件でのデータ抽出を試す\n",
        "- 他の種類のグラフ（折れ線グラフ、ヒストグラムなど）を作成する\n",
        "\n",
        "### 覚えておくべきコマンド\n",
        "```python\n",
        "# データ読み込み\n",
        "df = pd.DataFrame(data)  # 辞書からDataFrame作成\n",
        "df = pd.read_csv('file.csv')  # CSVファイル読み込み\n",
        "\n",
        "# データ確認\n",
        "df.head()  # 最初の5行\n",
        "df.describe()  # 統計情報\n",
        "\n",
        "# データ操作\n",
        "df[df['列名'] > 値]  # フィルタリング\n",
        "df.sort_values('列名')  # 並び替え\n",
        "df.groupby('列名').mean()  # グループ化と集計\n",
        "\n",
        "# グラフ作成\n",
        "plt.bar(x, y)  # 棒グラフ\n",
        "plt.scatter(x, y)  # 散布図\n",
        "```\n"
      ]
    }
  ],
  "metadata": {
    "language_info": {
      "name": "python"
    }
  },
  "nbformat": 4,
  "nbformat_minor": 2
}
